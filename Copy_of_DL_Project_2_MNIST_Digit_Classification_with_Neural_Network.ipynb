{
  "nbformat": 4,
  "nbformat_minor": 0,
  "metadata": {
    "colab": {
      "provenance": []
    },
    "kernelspec": {
      "name": "python3",
      "display_name": "Python 3"
    },
    "language_info": {
      "name": "python"
    }
  },
  "cells": [
    {
      "cell_type": "markdown",
      "source": [
        "# Importing the Dependencies"
      ],
      "metadata": {
        "id": "_uqn9OnmuCta"
      }
    },
    {
      "cell_type": "code",
      "execution_count": null,
      "metadata": {
        "id": "6wCv_RHR76Ws"
      },
      "outputs": [],
      "source": [
        "import tensorflow as tf\n",
        "from tensorflow.keras.datasets import mnist\n",
        "from tensorflow.keras.models import Sequential\n",
        "from tensorflow.keras.layers import Dense, Flatten\n",
        "from tensorflow.keras.utils import to_categorical\n",
        "import matplotlib.pyplot as plt\n",
        "import numpy as np"
      ]
    },
    {
      "cell_type": "markdown",
      "source": [
        "# Loading the Dataset"
      ],
      "metadata": {
        "id": "-TlLxACYrhny"
      }
    },
    {
      "cell_type": "markdown",
      "source": [
        "You will get 4 arrays already Xtrain Xtest Ytrain Ytest already processed data"
      ],
      "metadata": {
        "id": "bdojhc0XvSH-"
      }
    },
    {
      "cell_type": "code",
      "source": [
        "#loading the dataset\n",
        "(X_train, y_train), (X_test, y_test) = mnist.load_data()"
      ],
      "metadata": {
        "id": "pOvOOq0uvMyA",
        "colab": {
          "base_uri": "https://localhost:8080/"
        },
        "outputId": "3b195628-fe0e-4dcd-ae2a-86af2f94fd8e"
      },
      "execution_count": null,
      "outputs": [
        {
          "output_type": "stream",
          "name": "stdout",
          "text": [
            "Downloading data from https://storage.googleapis.com/tensorflow/tf-keras-datasets/mnist.npz\n",
            "11490434/11490434 [==============================] - 2s 0us/step\n"
          ]
        }
      ]
    },
    {
      "cell_type": "code",
      "source": [
        "#checking the data type\n",
        "type(X_train)"
      ],
      "metadata": {
        "colab": {
          "base_uri": "https://localhost:8080/"
        },
        "id": "9QW2OwnYjnmR",
        "outputId": "92d42f1e-4844-464b-afe4-acb5dbe3c41b"
      },
      "execution_count": null,
      "outputs": [
        {
          "output_type": "execute_result",
          "data": {
            "text/plain": [
              "numpy.ndarray"
            ]
          },
          "metadata": {},
          "execution_count": 3
        }
      ]
    },
    {
      "cell_type": "code",
      "source": [
        "#checking the training shape\n",
        "X_train.shape"
      ],
      "metadata": {
        "colab": {
          "base_uri": "https://localhost:8080/"
        },
        "id": "tYkULQbrjvHQ",
        "outputId": "6c544c7d-a4da-4927-e902-6ba1bcfa3772"
      },
      "execution_count": null,
      "outputs": [
        {
          "output_type": "execute_result",
          "data": {
            "text/plain": [
              "(60000, 28, 28)"
            ]
          },
          "metadata": {},
          "execution_count": 4
        }
      ]
    },
    {
      "cell_type": "code",
      "source": [
        "print(X_train.shape , y_train.shape , X_test.shape , y_test.shape)"
      ],
      "metadata": {
        "colab": {
          "base_uri": "https://localhost:8080/"
        },
        "id": "4_ZU0hAjjyPn",
        "outputId": "2bca99f8-f665-4528-d95f-e32bea3c250b"
      },
      "execution_count": null,
      "outputs": [
        {
          "output_type": "stream",
          "name": "stdout",
          "text": [
            "(60000, 28, 28) (60000,) (10000, 28, 28) (10000,)\n"
          ]
        }
      ]
    },
    {
      "cell_type": "code",
      "source": [
        "# printing the image\n",
        "print(X_train[150])"
      ],
      "metadata": {
        "colab": {
          "base_uri": "https://localhost:8080/"
        },
        "id": "Bjk04Nz_j90x",
        "outputId": "bb450578-d834-42a6-ccd2-18235c624319"
      },
      "execution_count": null,
      "outputs": [
        {
          "output_type": "stream",
          "name": "stdout",
          "text": [
            "[[  0   0   0   0   0   0   0   0   0   0   0   0   0   0   0   0   0   0\n",
            "    0   0   0   0   0   0   0   0   0   0]\n",
            " [  0   0   0   0   0   0   0   0   0   0   0   0   0   0   0   0   0   0\n",
            "    0   0   0   0   0   0   0   0   0   0]\n",
            " [  0   0   0   0   0   0   0   0   0   0   0   0   0   0   0   0   0   0\n",
            "    0   0   0   0   0   0   0   0   0   0]\n",
            " [  0   0   0   0   0   0   0   0   0   0   0   0   0   0   0   0   0   0\n",
            "    0   0   0   0   0   0   0   0   0   0]\n",
            " [  0   0   0   0   0   0   0   0   0   0   0   0   0   0   0   0   0   0\n",
            "    0   0   0   0   0   0   0   0   0   0]\n",
            " [  0   0   0   0   0   0   0   0   0   0   0   0   0   0   0  19 221 254\n",
            "   11   0   0   0   0   0   0   0   0   0]\n",
            " [  0   0   0   0   0   0   0   0   0   0   0   0   0   0   0 139 253 227\n",
            "    8   0   0   0   0   0   0   0   0   0]\n",
            " [  0   0   0   0   0   0   0   0   0   0   0   0   0   0 135 254 253  63\n",
            "    0   0   0   0   0   0   0   0   0   0]\n",
            " [  0   0   0   0   0   0   0   0   0   0   0   0   4 138 252 254 253  44\n",
            "    0   0   0   0   0   0   0   0   0   0]\n",
            " [  0   0   0   0   0   0   0   0   0   0   0   3 138 253 253 254 253  44\n",
            "    0   0   0   0   0   0   0   0   0   0]\n",
            " [  0   0   0   0   0   0   0   0   0   0  31 144 253 253 253 254 230  29\n",
            "    0   0   0   0   0   0   0   0   0   0]\n",
            " [  0   0   0   0   0   0   0   0   0  80 216 253 247 127 224 254 187   0\n",
            "    0   0   0   0   0   0   0   0   0   0]\n",
            " [  0   0   0   0   0   0   0   0 101 219 253 247  39   0 221 254 168   0\n",
            "    0   0   0   0   0   0   0   0   0   0]\n",
            " [  0   0   0   0   0   0  21  78 246 253 188  63   0  58 245 254  77   0\n",
            "    0   0   0   0   0   0   0   0   0   0]\n",
            " [  0   0   0   0   0  15 196 253 253 157  21   0   0 127 253 254  77   0\n",
            "    0   0   0   0  68 111  15   0   0   0]\n",
            " [  0   0   0   0   0 193 254 254 245  72  34  34  13 189 254 227  34  34\n",
            "   34  58 144 197 255 244  77   0   0   0]\n",
            " [  0   0   0   0   0 107 204 253 253 253 253 253 207 234 253 254 253 253\n",
            "  253 253 253 253 213  82   0   0   0   0]\n",
            " [  0   0   0   0   0   0  12  87 154 219 253 253 253 253 253 254 253 253\n",
            "  245 154 154  53  17   0   0   0   0   0]\n",
            " [  0   0   0   0   0   0   0   0   0   7  10 112 144 253 253 223  10  10\n",
            "   10   0   0   0   0   0   0   0   0   0]\n",
            " [  0   0   0   0   0   0   0   0   0   0   0   0  16 211 253 221   0   0\n",
            "    0   0   0   0   0   0   0   0   0   0]\n",
            " [  0   0   0   0   0   0   0   0   0   0   0   0   0 188 253 134   0   0\n",
            "    0   0   0   0   0   0   0   0   0   0]\n",
            " [  0   0   0   0   0   0   0   0   0   0   0   0  22 219 253  58   0   0\n",
            "    0   0   0   0   0   0   0   0   0   0]\n",
            " [  0   0   0   0   0   0   0   0   0   0   0   0  45 253 253   0   0   0\n",
            "    0   0   0   0   0   0   0   0   0   0]\n",
            " [  0   0   0   0   0   0   0   0   0   0   0   0  45 253 253   0   0   0\n",
            "    0   0   0   0   0   0   0   0   0   0]\n",
            " [  0   0   0   0   0   0   0   0   0   0   0   0   6 148 205   0   0   0\n",
            "    0   0   0   0   0   0   0   0   0   0]\n",
            " [  0   0   0   0   0   0   0   0   0   0   0   0   0   0   0   0   0   0\n",
            "    0   0   0   0   0   0   0   0   0   0]\n",
            " [  0   0   0   0   0   0   0   0   0   0   0   0   0   0   0   0   0   0\n",
            "    0   0   0   0   0   0   0   0   0   0]\n",
            " [  0   0   0   0   0   0   0   0   0   0   0   0   0   0   0   0   0   0\n",
            "    0   0   0   0   0   0   0   0   0   0]]\n"
          ]
        }
      ]
    },
    {
      "cell_type": "code",
      "source": [
        "#displaying the image\n",
        "plt.imshow(X_train[150])\n",
        "plt.show()\n",
        "#print the corresponding label\n",
        "print('-------------------------------------------------------')\n",
        "print(y_train[150])"
      ],
      "metadata": {
        "colab": {
          "base_uri": "https://localhost:8080/",
          "height": 466
        },
        "id": "6LjXMQCqkHQn",
        "outputId": "2f579609-3cc8-48c0-d7b4-e17e369e851d"
      },
      "execution_count": null,
      "outputs": [
        {
          "output_type": "display_data",
          "data": {
            "text/plain": [
              "<Figure size 640x480 with 1 Axes>"
            ],
            "image/png": "[encoded data removed]"
          },
          "metadata": {}
        },
        {
          "output_type": "stream",
          "name": "stdout",
          "text": [
            "-------------------------------------------------------\n",
            "4\n"
          ]
        }
      ]
    },
    {
      "cell_type": "code",
      "source": [
        "#checking unique values in training & testing data\n",
        "print(np.unique(y_train))\n",
        "print(np.unique(y_test))"
      ],
      "metadata": {
        "colab": {
          "base_uri": "https://localhost:8080/"
        },
        "id": "WVlhQR4MkHN3",
        "outputId": "cec85397-ff98-4248-c7cb-0b08783770f8"
      },
      "execution_count": null,
      "outputs": [
        {
          "output_type": "stream",
          "name": "stdout",
          "text": [
            "[0 1 2 3 4 5 6 7 8 9]\n",
            "[0 1 2 3 4 5 6 7 8 9]\n"
          ]
        }
      ]
    },
    {
      "cell_type": "markdown",
      "source": [
        "#Preprocessing"
      ],
      "metadata": {
        "id": "wGKakiNi5OGj"
      }
    },
    {
      "cell_type": "markdown",
      "source": [
        "Standardizing the data"
      ],
      "metadata": {
        "id": "zD0OQJcAsJvX"
      }
    },
    {
      "cell_type": "code",
      "source": [
        "X_train = X_train / 255.0\n",
        "X_test = X_test / 255.0"
      ],
      "metadata": {
        "id": "Rn3e325xd1HG"
      },
      "execution_count": null,
      "outputs": []
    },
    {
      "cell_type": "code",
      "source": [
        "# checking the normalized values\n",
        "print(X_train[150])"
      ],
      "metadata": {
        "colab": {
          "base_uri": "https://localhost:8080/"
        },
        "id": "8lYQKIojkwnB",
        "outputId": "ccefa243-4d3d-46b9-d41f-0de5baf8ee91"
      },
      "execution_count": null,
      "outputs": [
        {
          "output_type": "stream",
          "name": "stdout",
          "text": [
            "[[0.         0.         0.         0.         0.         0.\n",
            "  0.         0.         0.         0.         0.         0.\n",
            "  0.         0.         0.         0.         0.         0.\n",
            "  0.         0.         0.         0.         0.         0.\n",
            "  0.         0.         0.         0.        ]\n",
            " [0.         0.         0.         0.         0.         0.\n",
            "  0.         0.         0.         0.         0.         0.\n",
            "  0.         0.         0.         0.         0.         0.\n",
            "  0.         0.         0.         0.         0.         0.\n",
            "  0.         0.         0.         0.        ]\n",
            " [0.         0.         0.         0.         0.         0.\n",
            "  0.         0.         0.         0.         0.         0.\n",
            "  0.         0.         0.         0.         0.         0.\n",
            "  0.         0.         0.         0.         0.         0.\n",
            "  0.         0.         0.         0.        ]\n",
            " [0.         0.         0.         0.         0.         0.\n",
            "  0.         0.         0.         0.         0.         0.\n",
            "  0.         0.         0.         0.         0.         0.\n",
            "  0.         0.         0.         0.         0.         0.\n",
            "  0.         0.         0.         0.        ]\n",
            " [0.         0.         0.         0.         0.         0.\n",
            "  0.         0.         0.         0.         0.         0.\n",
            "  0.         0.         0.         0.         0.         0.\n",
            "  0.         0.         0.         0.         0.         0.\n",
            "  0.         0.         0.         0.        ]\n",
            " [0.         0.         0.         0.         0.         0.\n",
            "  0.         0.         0.         0.         0.         0.\n",
            "  0.         0.         0.         0.0745098  0.86666667 0.99607843\n",
            "  0.04313725 0.         0.         0.         0.         0.\n",
            "  0.         0.         0.         0.        ]\n",
            " [0.         0.         0.         0.         0.         0.\n",
            "  0.         0.         0.         0.         0.         0.\n",
            "  0.         0.         0.         0.54509804 0.99215686 0.89019608\n",
            "  0.03137255 0.         0.         0.         0.         0.\n",
            "  0.         0.         0.         0.        ]\n",
            " [0.         0.         0.         0.         0.         0.\n",
            "  0.         0.         0.         0.         0.         0.\n",
            "  0.         0.         0.52941176 0.99607843 0.99215686 0.24705882\n",
            "  0.         0.         0.         0.         0.         0.\n",
            "  0.         0.         0.         0.        ]\n",
            " [0.         0.         0.         0.         0.         0.\n",
            "  0.         0.         0.         0.         0.         0.\n",
            "  0.01568627 0.54117647 0.98823529 0.99607843 0.99215686 0.17254902\n",
            "  0.         0.         0.         0.         0.         0.\n",
            "  0.         0.         0.         0.        ]\n",
            " [0.         0.         0.         0.         0.         0.\n",
            "  0.         0.         0.         0.         0.         0.01176471\n",
            "  0.54117647 0.99215686 0.99215686 0.99607843 0.99215686 0.17254902\n",
            "  0.         0.         0.         0.         0.         0.\n",
            "  0.         0.         0.         0.        ]\n",
            " [0.         0.         0.         0.         0.         0.\n",
            "  0.         0.         0.         0.         0.12156863 0.56470588\n",
            "  0.99215686 0.99215686 0.99215686 0.99607843 0.90196078 0.11372549\n",
            "  0.         0.         0.         0.         0.         0.\n",
            "  0.         0.         0.         0.        ]\n",
            " [0.         0.         0.         0.         0.         0.\n",
            "  0.         0.         0.         0.31372549 0.84705882 0.99215686\n",
            "  0.96862745 0.49803922 0.87843137 0.99607843 0.73333333 0.\n",
            "  0.         0.         0.         0.         0.         0.\n",
            "  0.         0.         0.         0.        ]\n",
            " [0.         0.         0.         0.         0.         0.\n",
            "  0.         0.         0.39607843 0.85882353 0.99215686 0.96862745\n",
            "  0.15294118 0.         0.86666667 0.99607843 0.65882353 0.\n",
            "  0.         0.         0.         0.         0.         0.\n",
            "  0.         0.         0.         0.        ]\n",
            " [0.         0.         0.         0.         0.         0.\n",
            "  0.08235294 0.30588235 0.96470588 0.99215686 0.7372549  0.24705882\n",
            "  0.         0.22745098 0.96078431 0.99607843 0.30196078 0.\n",
            "  0.         0.         0.         0.         0.         0.\n",
            "  0.         0.         0.         0.        ]\n",
            " [0.         0.         0.         0.         0.         0.05882353\n",
            "  0.76862745 0.99215686 0.99215686 0.61568627 0.08235294 0.\n",
            "  0.         0.49803922 0.99215686 0.99607843 0.30196078 0.\n",
            "  0.         0.         0.         0.         0.26666667 0.43529412\n",
            "  0.05882353 0.         0.         0.        ]\n",
            " [0.         0.         0.         0.         0.         0.75686275\n",
            "  0.99607843 0.99607843 0.96078431 0.28235294 0.13333333 0.13333333\n",
            "  0.05098039 0.74117647 0.99607843 0.89019608 0.13333333 0.13333333\n",
            "  0.13333333 0.22745098 0.56470588 0.77254902 1.         0.95686275\n",
            "  0.30196078 0.         0.         0.        ]\n",
            " [0.         0.         0.         0.         0.         0.41960784\n",
            "  0.8        0.99215686 0.99215686 0.99215686 0.99215686 0.99215686\n",
            "  0.81176471 0.91764706 0.99215686 0.99607843 0.99215686 0.99215686\n",
            "  0.99215686 0.99215686 0.99215686 0.99215686 0.83529412 0.32156863\n",
            "  0.         0.         0.         0.        ]\n",
            " [0.         0.         0.         0.         0.         0.\n",
            "  0.04705882 0.34117647 0.60392157 0.85882353 0.99215686 0.99215686\n",
            "  0.99215686 0.99215686 0.99215686 0.99607843 0.99215686 0.99215686\n",
            "  0.96078431 0.60392157 0.60392157 0.20784314 0.06666667 0.\n",
            "  0.         0.         0.         0.        ]\n",
            " [0.         0.         0.         0.         0.         0.\n",
            "  0.         0.         0.         0.02745098 0.03921569 0.43921569\n",
            "  0.56470588 0.99215686 0.99215686 0.8745098  0.03921569 0.03921569\n",
            "  0.03921569 0.         0.         0.         0.         0.\n",
            "  0.         0.         0.         0.        ]\n",
            " [0.         0.         0.         0.         0.         0.\n",
            "  0.         0.         0.         0.         0.         0.\n",
            "  0.0627451  0.82745098 0.99215686 0.86666667 0.         0.\n",
            "  0.         0.         0.         0.         0.         0.\n",
            "  0.         0.         0.         0.        ]\n",
            " [0.         0.         0.         0.         0.         0.\n",
            "  0.         0.         0.         0.         0.         0.\n",
            "  0.         0.7372549  0.99215686 0.5254902  0.         0.\n",
            "  0.         0.         0.         0.         0.         0.\n",
            "  0.         0.         0.         0.        ]\n",
            " [0.         0.         0.         0.         0.         0.\n",
            "  0.         0.         0.         0.         0.         0.\n",
            "  0.08627451 0.85882353 0.99215686 0.22745098 0.         0.\n",
            "  0.         0.         0.         0.         0.         0.\n",
            "  0.         0.         0.         0.        ]\n",
            " [0.         0.         0.         0.         0.         0.\n",
            "  0.         0.         0.         0.         0.         0.\n",
            "  0.17647059 0.99215686 0.99215686 0.         0.         0.\n",
            "  0.         0.         0.         0.         0.         0.\n",
            "  0.         0.         0.         0.        ]\n",
            " [0.         0.         0.         0.         0.         0.\n",
            "  0.         0.         0.         0.         0.         0.\n",
            "  0.17647059 0.99215686 0.99215686 0.         0.         0.\n",
            "  0.         0.         0.         0.         0.         0.\n",
            "  0.         0.         0.         0.        ]\n",
            " [0.         0.         0.         0.         0.         0.\n",
            "  0.         0.         0.         0.         0.         0.\n",
            "  0.02352941 0.58039216 0.80392157 0.         0.         0.\n",
            "  0.         0.         0.         0.         0.         0.\n",
            "  0.         0.         0.         0.        ]\n",
            " [0.         0.         0.         0.         0.         0.\n",
            "  0.         0.         0.         0.         0.         0.\n",
            "  0.         0.         0.         0.         0.         0.\n",
            "  0.         0.         0.         0.         0.         0.\n",
            "  0.         0.         0.         0.        ]\n",
            " [0.         0.         0.         0.         0.         0.\n",
            "  0.         0.         0.         0.         0.         0.\n",
            "  0.         0.         0.         0.         0.         0.\n",
            "  0.         0.         0.         0.         0.         0.\n",
            "  0.         0.         0.         0.        ]\n",
            " [0.         0.         0.         0.         0.         0.\n",
            "  0.         0.         0.         0.         0.         0.\n",
            "  0.         0.         0.         0.         0.         0.\n",
            "  0.         0.         0.         0.         0.         0.\n",
            "  0.         0.         0.         0.        ]]\n"
          ]
        }
      ]
    },
    {
      "cell_type": "code",
      "source": [
        "#storing y_test\n",
        "Y_test = y_test"
      ],
      "metadata": {
        "id": "aEtqJe2ssSa8"
      },
      "execution_count": null,
      "outputs": []
    },
    {
      "cell_type": "code",
      "source": [
        "# one hot encoding the labels\n",
        "y_train = to_categorical(y_train, 10)\n",
        "y_test = to_categorical(y_test, 10)"
      ],
      "metadata": {
        "id": "9fS4SeRad9rh"
      },
      "execution_count": null,
      "outputs": []
    },
    {
      "cell_type": "code",
      "source": [
        "print(y_train[150])"
      ],
      "metadata": {
        "colab": {
          "base_uri": "https://localhost:8080/"
        },
        "id": "3jrtpU8AsioR",
        "outputId": "ecf11447-408a-4412-925c-5ab4e16aa09d"
      },
      "execution_count": null,
      "outputs": [
        {
          "output_type": "stream",
          "name": "stdout",
          "text": [
            "[0. 0. 0. 0. 1. 0. 0. 0. 0. 0.]\n"
          ]
        }
      ]
    },
    {
      "cell_type": "markdown",
      "source": [
        "#Model Training"
      ],
      "metadata": {
        "id": "0iDXCl7y5Rrg"
      }
    },
    {
      "cell_type": "code",
      "source": [
        "#setting the layers of Neural Network\n",
        "#if rgb image the inputscahpe=28,28,3\n",
        "model = Sequential([\n",
        "    Flatten(input_shape=(28, 28)),  # Flatten the 28x28 images\n",
        "    #Dense(64, activation='relu'),  # Hidden layer with 64 neurons\n",
        "    Dense(128, activation='relu'),  # Hidden layer with 128 neurons\n",
        "    Dense(10, activation='softmax') # Output layer for 10 classes\n",
        "])"
      ],
      "metadata": {
        "id": "4YQtytted_-H"
      },
      "execution_count": null,
      "outputs": []
    },
    {
      "cell_type": "code",
      "source": [
        "#compiling the Neural Network\n",
        "model.compile(optimizer='adam',\n",
        "              loss='categorical_crossentropy',\n",
        "              metrics=['accuracy'])"
      ],
      "metadata": {
        "id": "VadPj6vMeCNY"
      },
      "execution_count": null,
      "outputs": []
    },
    {
      "cell_type": "code",
      "source": [
        "#fitting the model\n",
        "history = model.fit(X_train, y_train, epochs=5, validation_split=0.2)"
      ],
      "metadata": {
        "colab": {
          "base_uri": "https://localhost:8080/"
        },
        "id": "-KkutWELeDRq",
        "outputId": "c04b2ac1-d9fa-488e-a0af-f20f6c1a7cfe"
      },
      "execution_count": null,
      "outputs": [
        {
          "output_type": "stream",
          "name": "stdout",
          "text": [
            "Epoch 1/5\n",
            "1500/1500 [==============================] - 7s 4ms/step - loss: 0.2828 - accuracy: 0.9207 - val_loss: 0.1494 - val_accuracy: 0.9572\n",
            "Epoch 2/5\n",
            "1500/1500 [==============================] - 5s 3ms/step - loss: 0.1252 - accuracy: 0.9631 - val_loss: 0.1150 - val_accuracy: 0.9662\n",
            "Epoch 3/5\n",
            "1500/1500 [==============================] - 6s 4ms/step - loss: 0.0863 - accuracy: 0.9743 - val_loss: 0.0952 - val_accuracy: 0.9711\n",
            "Epoch 4/5\n",
            "1500/1500 [==============================] - 5s 3ms/step - loss: 0.0645 - accuracy: 0.9812 - val_loss: 0.0964 - val_accuracy: 0.9714\n",
            "Epoch 5/5\n",
            "1500/1500 [==============================] - 5s 3ms/step - loss: 0.0503 - accuracy: 0.9847 - val_loss: 0.0841 - val_accuracy: 0.9758\n"
          ]
        }
      ]
    },
    {
      "cell_type": "markdown",
      "source": [
        "Training Data Accuracy : 97.58%"
      ],
      "metadata": {
        "id": "K7WOtlrQ2OEe"
      }
    },
    {
      "cell_type": "code",
      "source": [
        "# test data accuracy\n",
        "test_loss, test_acc = model.evaluate(X_test, y_test)\n",
        "print(f'Test accuracy: {test_acc}')"
      ],
      "metadata": {
        "colab": {
          "base_uri": "https://localhost:8080/"
        },
        "id": "zcaMb2OPeGII",
        "outputId": "fe9399a1-9a7e-4204-9179-8ee5ac32f444"
      },
      "execution_count": null,
      "outputs": [
        {
          "output_type": "stream",
          "name": "stdout",
          "text": [
            "313/313 [==============================] - 1s 2ms/step - loss: 0.0778 - accuracy: 0.9758\n",
            "Test accuracy: 0.9757999777793884\n"
          ]
        }
      ]
    },
    {
      "cell_type": "code",
      "source": [
        "#first data point in X_test\n",
        "plt.imshow(X_test[0])\n",
        "plt.show()"
      ],
      "metadata": {
        "colab": {
          "base_uri": "https://localhost:8080/",
          "height": 430
        },
        "id": "y9dAR8Xtl41T",
        "outputId": "abddfe6b-0f04-4890-ec0f-8408f83c8a9e"
      },
      "execution_count": null,
      "outputs": [
        {
          "output_type": "display_data",
          "data": {
            "text/plain": [
              "<Figure size 640x480 with 1 Axes>"
            ],
            "image/png": "[encoded data removed]"
          },
          "metadata": {}
        }
      ]
    },
    {
      "cell_type": "code",
      "source": [
        "print(y_test[0])"
      ],
      "metadata": {
        "colab": {
          "base_uri": "https://localhost:8080/"
        },
        "id": "tSsXgY3Ql_HM",
        "outputId": "68dc8414-82d5-4735-96b1-15a95141e1d4"
      },
      "execution_count": null,
      "outputs": [
        {
          "output_type": "stream",
          "name": "stdout",
          "text": [
            "[0. 0. 0. 0. 0. 0. 0. 1. 0. 0.]\n"
          ]
        }
      ]
    },
    {
      "cell_type": "code",
      "source": [
        "#predicting the val\n",
        "y_pred = model.predict(X_test)"
      ],
      "metadata": {
        "colab": {
          "base_uri": "https://localhost:8080/"
        },
        "id": "Xin8evimmEyE",
        "outputId": "c03aed01-a773-4f81-cbb3-f2df44b9a17d"
      },
      "execution_count": null,
      "outputs": [
        {
          "output_type": "stream",
          "name": "stdout",
          "text": [
            "313/313 [==============================] - 1s 2ms/step\n"
          ]
        }
      ]
    },
    {
      "cell_type": "code",
      "source": [
        "print(y_pred[0])"
      ],
      "metadata": {
        "colab": {
          "base_uri": "https://localhost:8080/"
        },
        "id": "nJ9OHw7amH8W",
        "outputId": "07614e15-6759-4374-8f27-3fa0ab9a89b6"
      },
      "execution_count": null,
      "outputs": [
        {
          "output_type": "stream",
          "name": "stdout",
          "text": [
            "[3.9421153e-08 1.2957831e-08 2.8079674e-05 7.2098235e-05 1.7325384e-11\n",
            " 4.7430491e-09 8.4474875e-12 9.9989921e-01 1.2179218e-07 3.2264535e-07]\n"
          ]
        }
      ]
    },
    {
      "cell_type": "code",
      "source": [
        "#converting the prediction prob to class label of one data\n",
        "label_for_first_image = np.argmax(y_pred[0])\n",
        "print(label_for_first_image)"
      ],
      "metadata": {
        "colab": {
          "base_uri": "https://localhost:8080/"
        },
        "id": "x_Zrjn5-mLS5",
        "outputId": "acf8e4a7-601b-4387-b0dd-57e25e2f854a"
      },
      "execution_count": null,
      "outputs": [
        {
          "output_type": "stream",
          "name": "stdout",
          "text": [
            "7\n"
          ]
        }
      ]
    },
    {
      "cell_type": "code",
      "source": [
        "#converting the prediction prob to class label for all\n",
        "#data points\n",
        "y_pred_labels = [np.argmax(i) for i in y_pred]\n",
        "print(y_pred_labels)"
      ],
      "metadata": {
        "colab": {
          "base_uri": "https://localhost:8080/"
        },
        "id": "FTfLAWU_mS4q",
        "outputId": "d43d6f14-40ec-4feb-df49-1d2d859f4414"
      },
      "execution_count": null,
      "outputs": [
        {
          "output_type": "stream",
          "name": "stdout",
          "text": [
            "[7, 2, 1, 0, 4, 1, 4, 9, 6, 9, 0, 6, 9, 0, 1, 5, 9, 7, 3, 4, 9, 6, 6, 5, 4, 0, 7, 4, 0, 1, 3, 1, 3, 4, 7, 2, 7, 1, 2, 1, 1, 7, 4, 2, 3, 5, 1, 2, 4, 4, 6, 3, 5, 5, 6, 0, 4, 1, 9, 5, 7, 8, 9, 3, 7, 4, 6, 4, 3, 0, 7, 0, 2, 9, 1, 7, 3, 2, 9, 7, 7, 6, 2, 7, 8, 4, 7, 3, 6, 1, 3, 6, 9, 3, 1, 4, 1, 7, 6, 9, 6, 0, 5, 4, 9, 9, 2, 1, 9, 4, 8, 7, 3, 9, 7, 4, 4, 4, 9, 2, 5, 4, 7, 6, 7, 9, 0, 5, 8, 5, 6, 6, 5, 7, 8, 1, 0, 1, 6, 4, 6, 7, 3, 1, 7, 1, 8, 2, 0, 2, 9, 8, 5, 5, 1, 5, 6, 0, 3, 4, 4, 6, 5, 4, 6, 5, 4, 5, 1, 4, 4, 7, 2, 3, 2, 7, 1, 8, 1, 8, 1, 8, 5, 0, 8, 9, 2, 5, 0, 1, 1, 1, 0, 9, 0, 3, 1, 6, 4, 2, 3, 6, 1, 1, 1, 3, 9, 5, 2, 9, 4, 5, 9, 3, 9, 0, 3, 6, 5, 5, 7, 2, 2, 7, 1, 2, 8, 4, 1, 7, 3, 3, 8, 8, 7, 9, 2, 2, 4, 1, 5, 8, 8, 7, 2, 3, 0, 6, 4, 2, 4, 1, 9, 5, 7, 7, 2, 8, 2, 6, 8, 5, 7, 7, 9, 1, 8, 1, 8, 0, 3, 0, 1, 9, 9, 4, 1, 8, 2, 1, 2, 9, 7, 5, 9, 2, 6, 4, 1, 5, 8, 2, 9, 2, 0, 4, 0, 0, 2, 8, 4, 7, 1, 2, 4, 0, 2, 7, 4, 3, 3, 0, 0, 3, 1, 9, 6, 5, 2, 5, 9, 7, 9, 3, 0, 4, 2, 0, 7, 1, 1, 2, 1, 5, 3, 3, 9, 7, 8, 6, 3, 6, 1, 3, 8, 1, 0, 5, 1, 3, 1, 5, 5, 6, 1, 8, 5, 1, 7, 9, 4, 6, 2, 2, 5, 0, 6, 5, 6, 3, 7, 2, 0, 8, 8, 5, 4, 1, 1, 4, 0, 7, 3, 7, 6, 1, 6, 2, 1, 9, 2, 8, 6, 1, 9, 5, 2, 5, 4, 4, 2, 8, 3, 8, 2, 4, 5, 0, 3, 1, 7, 7, 5, 7, 9, 7, 1, 9, 2, 1, 4, 2, 9, 2, 0, 4, 9, 1, 4, 8, 1, 8, 4, 5, 9, 8, 8, 3, 7, 6, 0, 0, 3, 0, 2, 0, 6, 9, 9, 5, 3, 3, 2, 3, 9, 1, 2, 6, 8, 0, 5, 6, 6, 6, 3, 8, 8, 2, 7, 5, 8, 9, 6, 1, 8, 4, 1, 2, 5, 9, 1, 9, 7, 5, 4, 0, 8, 9, 9, 1, 0, 5, 2, 3, 7, 2, 9, 4, 0, 6, 3, 9, 5, 2, 1, 3, 1, 3, 6, 5, 7, 4, 2, 2, 6, 3, 2, 6, 5, 4, 8, 9, 7, 1, 3, 0, 3, 8, 3, 1, 9, 3, 4, 4, 6, 4, 2, 1, 8, 2, 5, 4, 8, 8, 4, 0, 0, 2, 3, 2, 7, 7, 0, 8, 7, 4, 4, 7, 9, 6, 9, 0, 9, 8, 0, 4, 6, 0, 6, 3, 5, 4, 8, 3, 3, 9, 3, 3, 3, 7, 8, 0, 2, 2, 1, 7, 0, 6, 5, 4, 3, 3, 0, 9, 6, 3, 8, 0, 9, 9, 6, 8, 6, 8, 5, 7, 8, 6, 0, 2, 4, 0, 2, 8, 3, 1, 9, 7, 5, 8, 0, 8, 4, 6, 2, 6, 7, 9, 3, 2, 9, 8, 2, 2, 9, 2, 7, 3, 5, 9, 1, 8, 0, 2, 0, 5, 2, 1, 3, 7, 6, 7, 1, 2, 5, 8, 0, 3, 7, 8, 4, 0, 9, 1, 8, 6, 7, 7, 4, 3, 4, 9, 1, 9, 5, 1, 7, 3, 9, 7, 6, 9, 1, 3, 3, 8, 3, 3, 6, 7, 2, 4, 5, 8, 5, 1, 1, 4, 4, 3, 1, 0, 7, 7, 0, 7, 9, 9, 4, 8, 5, 5, 4, 0, 8, 2, 1, 0, 8, 4, 8, 0, 4, 0, 6, 1, 7, 3, 2, 6, 7, 2, 6, 9, 3, 1, 4, 6, 2, 5, 9, 2, 0, 6, 2, 1, 7, 3, 4, 1, 0, 5, 4, 3, 1, 1, 7, 4, 9, 9, 4, 8, 4, 0, 2, 4, 5, 1, 1, 6, 4, 7, 1, 9, 4, 2, 4, 1, 5, 5, 3, 8, 3, 1, 4, 5, 6, 8, 9, 4, 1, 5, 3, 8, 0, 3, 2, 5, 1, 2, 8, 3, 4, 4, 0, 8, 8, 3, 3, 1, 7, 3, 5, 9, 6, 3, 2, 6, 1, 3, 6, 0, 7, 2, 1, 7, 1, 4, 2, 4, 2, 1, 7, 9, 6, 1, 1, 2, 4, 8, 1, 7, 7, 4, 7, 0, 7, 3, 1, 3, 1, 0, 7, 7, 0, 3, 5, 5, 2, 7, 6, 6, 9, 2, 8, 3, 5, 2, 2, 5, 6, 0, 8, 2, 9, 2, 8, 8, 8, 8, 7, 4, 9, 3, 0, 6, 6, 3, 2, 1, 3, 2, 2, 9, 3, 0, 0, 5, 7, 8, 1, 4, 4, 6, 0, 2, 9, 1, 4, 7, 4, 7, 3, 9, 8, 8, 4, 7, 1, 2, 1, 2, 2, 3, 2, 3, 2, 3, 9, 1, 7, 4, 0, 3, 5, 5, 8, 6, 3, 2, 6, 7, 6, 6, 3, 2, 7, 9, 1, 1, 7, 4, 6, 4, 9, 5, 3, 3, 3, 4, 7, 8, 9, 1, 1, 0, 9, 1, 4, 4, 5, 4, 0, 6, 2, 2, 3, 1, 5, 1, 2, 0, 3, 8, 1, 2, 6, 7, 1, 6, 2, 3, 9, 0, 1, 2, 2, 0, 8, 9, 9, 0, 2, 5, 1, 9, 7, 8, 1, 0, 4, 1, 7, 9, 5, 4, 2, 6, 8, 1, 3, 7, 5, 4, 4, 1, 8, 1, 3, 8, 1, 2, 8, 8, 0, 6, 2, 1, 1, 2, 1, 5, 3, 4, 8, 9, 5, 0, 9, 2, 2, 4, 8, 2, 1, 7, 2, 4, 9, 4, 4, 0, 3, 9, 2, 2, 3, 3, 8, 3, 5, 7, 3, 5, 8, 1, 2, 4, 4, 6, 4, 9, 5, 1, 0, 6, 9, 5, 9, 5, 9, 7, 3, 8, 0, 3, 7, 1, 3, 6, 7, 8, 5, 9, 7, 9, 6, 9, 6, 3, 7, 4, 6, 5, 3, 5, 4, 7, 8, 7, 8, 0, 7, 6, 8, 8, 7, 3, 7, 1, 9, 5, 2, 7, 3, 5, 1, 1, 2, 1, 4, 7, 4, 7, 5, 4, 5, 4, 0, 8, 3, 6, 9, 6, 0, 2, 8, 4, 4, 4, 4, 6, 6, 4, 7, 9, 3, 4, 5, 5, 8, 7, 3, 7, 2, 7, 0, 2, 6, 1, 1, 1, 8, 9, 2, 8, 7, 2, 0, 1, 5, 0, 4, 1, 9, 0, 6, 0, 8, 6, 8, 1, 8, 0, 3, 3, 7, 2, 3, 6, 2, 1, 6, 1, 1, 3, 7, 9, 0, 8, 0, 5, 4, 0, 2, 8, 2, 2, 9, 8, 4, 0, 4, 5, 8, 5, 1, 2, 1, 3, 1, 7, 9, 5, 7, 2, 0, 5, 8, 8, 6, 2, 5, 4, 1, 9, 2, 1, 5, 8, 1, 0, 2, 4, 4, 3, 6, 8, 8, 2, 4, 0, 5, 0, 4, 4, 7, 9, 3, 4, 1, 5, 9, 7, 3, 5, 8, 8, 0, 5, 3, 3, 6, 6, 0, 1, 6, 0, 3, 7, 4, 4, 1, 2, 9, 1, 4, 6, 9, 9, 3, 9, 8, 4, 4, 3, 1, 3, 1, 3, 8, 7, 9, 4, 8, 8, 2, 9, 9, 1, 4, 5, 6, 0, 5, 2, 2, 2, 1, 5, 5, 2, 4, 9, 6, 2, 7, 7, 2, 2, 1, 1, 2, 8, 3, 7, 2, 4, 1, 7, 1, 7, 6, 7, 8, 2, 7, 3, 1, 7, 5, 8, 2, 6, 2, 2, 5, 6, 6, 0, 9, 2, 4, 3, 3, 9, 7, 6, 6, 8, 0, 4, 1, 3, 8, 3, 9, 1, 8, 0, 6, 7, 2, 1, 0, 5, 5, 2, 0, 2, 2, 0, 2, 4, 9, 8, 0, 9, 9, 4, 6, 5, 4, 9, 1, 8, 3, 4, 9, 9, 1, 2, 2, 8, 1, 9, 6, 4, 0, 9, 4, 8, 3, 8, 7, 0, 2, 5, 1, 9, 6, 2, 9, 4, 0, 9, 6, 0, 6, 2, 5, 4, 2, 3, 8, 4, 5, 5, 0, 3, 8, 5, 3, 5, 8, 6, 5, 7, 6, 3, 3, 9, 6, 1, 1, 2, 9, 0, 4, 3, 3, 6, 9, 5, 7, 3, 7, 7, 7, 8, 1, 9, 8, 3, 0, 7, 2, 7, 9, 4, 5, 4, 9, 3, 2, 1, 4, 0, 2, 3, 7, 5, 9, 8, 8, 5, 0, 3, 1, 4, 7, 3, 9, 0, 0, 0, 6, 6, 2, 3, 7, 8, 4, 7, 7, 9, 2, 4, 1, 6, 5, 2, 4, 9, 9, 1, 8, 4, 0, 9, 8, 4, 8, 7, 7, 0, 7, 8, 8, 6, 0, 4, 8, 8, 2, 4, 7, 6, 6, 6, 4, 7, 1, 8, 8, 2, 3, 6, 3, 0, 0, 3, 7, 6, 9, 7, 9, 9, 5, 4, 3, 3, 6, 1, 2, 3, 7, 3, 3, 6, 0, 3, 3, 8, 4, 3, 6, 3, 5, 0, 2, 6, 9, 0, 7, 4, 6, 9, 3, 5, 1, 9, 6, 1, 4, 5, 4, 5, 0, 5, 9, 5, 2, 1, 2, 9, 1, 9, 9, 4, 0, 8, 4, 5, 2, 9, 2, 1, 2, 1, 7, 3, 6, 8, 8, 4, 9, 1, 9, 8, 5, 7, 5, 1, 1, 8, 6, 5, 2, 4, 4, 7, 2, 3, 5, 6, 8, 8, 6, 2, 3, 1, 0, 5, 8, 9, 2, 9, 6, 7, 0, 4, 8, 7, 1, 7, 4, 1, 0, 3, 7, 2, 0, 0, 9, 1, 7, 0, 7, 8, 4, 7, 2, 0, 4, 6, 0, 3, 1, 1, 3, 3, 9, 6, 7, 4, 1, 1, 3, 0, 8, 7, 3, 9, 6, 9, 3, 5, 0, 2, 7, 4, 5, 1, 2, 5, 8, 0, 8, 8, 1, 5, 0, 3, 0, 3, 1, 4, 0, 3, 7, 2, 7, 1, 8, 0, 7, 0, 4, 3, 1, 9, 8, 7, 7, 1, 4, 9, 9, 3, 8, 1, 7, 9, 0, 2, 0, 3, 3, 7, 6, 9, 2, 3, 3, 7, 7, 0, 0, 7, 5, 2, 9, 8, 7, 4, 4, 2, 6, 6, 1, 9, 6, 8, 2, 9, 0, 8, 3, 1, 1, 6, 3, 5, 1, 1, 1, 3, 1, 2, 3, 0, 2, 0, 1, 3, 5, 5, 7, 4, 8, 9, 6, 9, 6, 8, 3, 6, 6, 8, 5, 1, 4, 2, 4, 4, 5, 1, 1, 9, 0, 2, 4, 9, 5, 7, 1, 8, 3, 5, 6, 9, 8, 7, 1, 1, 6, 7, 6, 3, 2, 2, 0, 8, 9, 2, 5, 1, 0, 8, 1, 4, 5, 7, 9, 6, 9, 0, 6, 1, 5, 5, 8, 3, 8, 2, 6, 5, 0, 7, 4, 6, 1, 3, 4, 7, 3, 2, 3, 4, 2, 5, 2, 7, 1, 7, 2, 6, 4, 1, 5, 9, 8, 6, 0, 1, 8, 2, 5, 7, 7, 6, 9, 3, 5, 8, 4, 2, 4, 0, 8, 8, 3, 4, 9, 2, 7, 5, 8, 6, 5, 6, 0, 8, 6, 7, 3, 6, 4, 9, 4, 6, 6, 3, 0, 4, 1, 9, 1, 4, 6, 2, 9, 1, 1, 0, 6, 3, 9, 5, 6, 5, 6, 5, 9, 4, 6, 4, 3, 9, 1, 3, 4, 1, 9, 1, 2, 1, 1, 9, 3, 5, 4, 0, 7, 3, 6, 1, 7, 5, 5, 3, 3, 0, 1, 3, 7, 5, 8, 6, 5, 1, 0, 8, 2, 3, 4, 6, 7, 9, 8, 1, 8, 9, 9, 2, 8, 6, 2, 7, 0, 0, 6, 7, 5, 8, 6, 0, 9, 3, 7, 1, 3, 5, 4, 3, 3, 5, 5, 6, 3, 0, 2, 3, 4, 2, 3, 0, 9, 9, 4, 7, 2, 8, 4, 7, 0, 6, 0, 8, 5, 2, 8, 5, 7, 3, 0, 8, 2, 2, 2, 8, 2, 5, 5, 7, 6, 4, 0, 8, 4, 8, 2, 7, 4, 5, 2, 0, 3, 9, 4, 6, 7, 2, 5, 1, 1, 1, 2, 3, 6, 7, 8, 7, 6, 4, 8, 9, 4, 8, 6, 3, 8, 3, 1, 0, 6, 2, 2, 5, 6, 9, 8, 8, 1, 4, 1, 7, 8, 4, 6, 1, 8, 4, 3, 1, 2, 8, 0, 8, 5, 9, 2, 4, 2, 0, 2, 7, 0, 9, 0, 2, 5, 7, 6, 7, 9, 4, 2, 6, 2, 4, 4, 8, 0, 4, 4, 5, 8, 0, 6, 8, 9, 8, 5, 6, 9, 0, 4, 8, 7, 1, 3, 4, 8, 8, 0, 9, 1, 3, 3, 6, 9, 8, 7, 1, 0, 5, 7, 1, 7, 5, 2, 7, 9, 1, 8, 5, 2, 4, 9, 4, 7, 2, 2, 3, 4, 9, 1, 9, 2, 1, 7, 9, 4, 4, 1, 6, 7, 2, 7, 8, 0, 1, 9, 7, 1, 1, 7, 5, 3, 3, 5, 1, 3, 7, 6, 1, 3, 8, 7, 5, 9, 4, 0, 0, 2, 8, 8, 2, 3, 7, 1, 3, 0, 3, 4, 4, 3, 8, 9, 2, 3, 9, 7, 1, 1, 7, 0, 4, 9, 6, 5, 9, 1, 7, 0, 2, 0, 0, 4, 6, 7, 0, 7, 1, 4, 6, 4, 5, 4, 9, 9, 1, 7, 9, 5, 3, 3, 8, 2, 3, 6, 2, 2, 1, 1, 1, 1, 1, 6, 9, 8, 4, 3, 7, 1, 6, 4, 8, 0, 4, 7, 4, 2, 4, 0, 7, 0, 1, 9, 8, 8, 6, 0, 0, 4, 1, 6, 8, 2, 2, 3, 8, 4, 8, 2, 2, 1, 7, 5, 4, 4, 0, 4, 3, 1, 7, 3, 1, 0, 1, 2, 5, 4, 2, 1, 0, 1, 8, 9, 1, 6, 8, 3, 8, 9, 3, 6, 2, 8, 3, 2, 2, 1, 0, 4, 2, 9, 2, 4, 3, 7, 9, 1, 5, 2, 4, 9, 0, 3, 8, 5, 3, 8, 0, 9, 4, 6, 2, 5, 0, 2, 7, 4, 6, 6, 8, 6, 6, 8, 6, 9, 1, 7, 2, 5, 9, 9, 0, 7, 2, 7, 6, 7, 0, 6, 5, 4, 4, 7, 2, 0, 9, 9, 2, 2, 9, 4, 4, 2, 3, 3, 2, 1, 7, 0, 7, 6, 4, 1, 3, 8, 7, 9, 5, 9, 2, 5, 1, 8, 7, 3, 7, 1, 5, 5, 0, 9, 1, 4, 0, 6, 3, 3, 6, 0, 4, 9, 7, 5, 1, 6, 8, 9, 5, 5, 7, 9, 3, 8, 3, 8, 1, 5, 3, 5, 0, 5, 5, 3, 8, 6, 7, 7, 7, 3, 7, 0, 5, 9, 0, 2, 5, 5, 3, 1, 7, 7, 8, 6, 5, 9, 3, 8, 9, 5, 3, 7, 9, 1, 7, 0, 0, 3, 7, 2, 5, 8, 1, 8, 6, 2, 9, 5, 7, 5, 1, 8, 6, 2, 5, 1, 4, 8, 4, 5, 8, 3, 0, 6, 2, 7, 3, 3, 2, 1, 0, 7, 3, 4, 0, 3, 9, 3, 2, 8, 9, 0, 3, 8, 0, 7, 6, 5, 4, 7, 3, 0, 0, 8, 6, 2, 5, 1, 1, 0, 0, 4, 4, 0, 1, 2, 3, 2, 7, 7, 8, 5, 2, 5, 7, 6, 9, 1, 4, 1, 6, 4, 2, 4, 3, 5, 4, 3, 9, 5, 0, 1, 5, 3, 8, 9, 1, 9, 7, 9, 5, 5, 2, 7, 4, 6, 0, 1, 1, 1, 0, 4, 4, 7, 6, 3, 0, 0, 4, 3, 0, 6, 1, 9, 6, 1, 3, 8, 1, 2, 5, 6, 2, 7, 3, 6, 0, 1, 9, 7, 6, 6, 8, 9, 2, 9, 5, 8, 3, 1, 0, 0, 7, 6, 6, 2, 1, 6, 9, 3, 1, 8, 6, 9, 0, 6, 0, 0, 0, 6, 3, 5, 9, 3, 4, 5, 5, 8, 5, 3, 0, 4, 0, 2, 9, 6, 8, 2, 3, 1, 2, 1, 1, 5, 6, 9, 8, 0, 6, 6, 5, 5, 3, 8, 6, 2, 1, 4, 5, 4, 3, 7, 8, 3, 0, 9, 3, 5, 1, 1, 0, 4, 4, 7, 0, 1, 7, 0, 1, 6, 1, 4, 5, 6, 6, 5, 7, 8, 4, 4, 7, 2, 5, 3, 7, 0, 7, 7, 9, 6, 4, 2, 8, 5, 7, 8, 3, 9, 5, 8, 9, 9, 8, 6, 2, 8, 9, 2, 3, 6, 1, 1, 8, 9, 3, 4, 0, 7, 9, 6, 7, 1, 4, 1, 3, 4, 9, 3, 1, 4, 7, 7, 4, 7, 2, 9, 3, 0, 8, 0, 8, 4, 0, 4, 4, 1, 5, 2, 8, 3, 4, 9, 5, 2, 8, 1, 5, 3, 3, 9, 4, 2, 5, 6, 3, 5, 9, 3, 5, 9, 3, 1, 9, 5, 3, 0, 6, 9, 8, 4, 0, 4, 7, 2, 9, 0, 1, 0, 3, 1, 6, 5, 8, 1, 5, 3, 5, 0, 3, 5, 5, 9, 2, 8, 7, 0, 4, 9, 1, 9, 7, 7, 5, 5, 2, 0, 9, 1, 8, 6, 2, 3, 9, 6, 2, 1, 9, 1, 3, 5, 5, 0, 3, 8, 3, 3, 7, 6, 8, 0, 1, 4, 0, 6, 8, 8, 1, 2, 9, 9, 5, 9, 7, 3, 7, 8, 0, 1, 3, 0, 4, 6, 1, 0, 2, 5, 8, 4, 4, 1, 1, 5, 4, 6, 6, 0, 6, 9, 2, 6, 2, 7, 1, 7, 9, 4, 0, 0, 3, 8, 2, 2, 3, 1, 6, 0, 5, 7, 7, 9, 2, 6, 7, 3, 7, 8, 6, 8, 8, 4, 6, 8, 4, 1, 2, 8, 2, 3, 9, 4, 0, 3, 7, 3, 2, 3, 3, 7, 3, 4, 0, 6, 2, 0, 8, 1, 5, 3, 5, 4, 1, 7, 1, 5, 7, 5, 7, 3, 2, 2, 7, 3, 7, 3, 7, 8, 5, 4, 5, 2, 9, 6, 5, 3, 6, 7, 4, 1, 7, 1, 5, 2, 3, 6, 3, 2, 4, 2, 6, 7, 4, 3, 8, 0, 6, 2, 1, 6, 5, 3, 9, 1, 9, 3, 2, 1, 8, 4, 4, 6, 5, 8, 6, 9, 7, 7, 8, 6, 9, 7, 3, 9, 4, 0, 5, 4, 6, 4, 1, 2, 3, 0, 0, 2, 6, 6, 5, 7, 0, 8, 6, 4, 7, 9, 0, 7, 3, 4, 2, 1, 8, 8, 5, 9, 2, 7, 1, 8, 8, 8, 2, 7, 6, 0, 1, 2, 7, 1, 0, 8, 3, 6, 0, 5, 3, 6, 2, 8, 7, 0, 1, 4, 2, 1, 1, 4, 4, 4, 4, 7, 1, 6, 2, 9, 9, 0, 0, 1, 8, 8, 4, 3, 4, 2, 0, 6, 1, 6, 1, 2, 2, 2, 1, 2, 3, 7, 8, 1, 0, 0, 2, 1, 6, 6, 0, 1, 6, 2, 5, 1, 7, 4, 8, 2, 1, 4, 3, 8, 3, 9, 9, 4, 8, 3, 4, 7, 2, 7, 5, 7, 0, 4, 3, 3, 2, 6, 7, 6, 0, 0, 6, 7, 7, 0, 5, 5, 8, 1, 0, 7, 0, 2, 8, 1, 5, 0, 8, 8, 0, 3, 2, 7, 7, 2, 6, 4, 9, 5, 5, 5, 2, 9, 2, 8, 4, 6, 8, 6, 5, 0, 0, 8, 7, 6, 1, 7, 1, 1, 2, 7, 4, 0, 0, 7, 7, 6, 3, 8, 6, 4, 2, 0, 9, 4, 0, 5, 7, 8, 2, 7, 4, 7, 1, 1, 3, 6, 6, 2, 9, 1, 9, 4, 8, 3, 6, 9, 5, 9, 6, 2, 4, 6, 7, 7, 0, 6, 6, 9, 4, 8, 3, 5, 3, 4, 9, 0, 0, 5, 2, 5, 0, 7, 1, 1, 1, 0, 7, 6, 7, 9, 6, 6, 4, 1, 4, 3, 1, 1, 2, 2, 4, 1, 0, 8, 7, 6, 3, 4, 0, 0, 6, 3, 3, 0, 7, 1, 7, 1, 1, 3, 1, 0, 9, 9, 7, 5, 4, 1, 4, 8, 9, 5, 3, 5, 1, 9, 8, 2, 3, 3, 9, 9, 0, 1, 0, 2, 9, 3, 9, 3, 3, 6, 2, 9, 9, 8, 3, 7, 4, 0, 4, 7, 8, 4, 9, 8, 1, 9, 7, 5, 9, 2, 8, 2, 2, 0, 2, 2, 3, 8, 4, 6, 8, 4, 8, 2, 4, 6, 7, 9, 3, 3, 9, 4, 3, 1, 4, 4, 7, 0, 5, 9, 6, 0, 4, 4, 4, 4, 6, 1, 2, 3, 3, 6, 4, 5, 9, 6, 8, 5, 6, 0, 8, 6, 4, 1, 8, 6, 8, 2, 8, 4, 5, 5, 4, 7, 7, 0, 7, 8, 2, 2, 3, 7, 0, 1, 8, 0, 7, 1, 9, 8, 7, 5, 5, 9, 1, 7, 5, 4, 3, 1, 2, 2, 1, 6, 6, 7, 1, 1, 4, 0, 7, 4, 2, 4, 0, 6, 4, 7, 6, 9, 5, 3, 4, 6, 5, 0, 1, 8, 8, 2, 8, 3, 5, 7, 8, 0, 8, 5, 7, 1, 1, 0, 1, 3, 7, 8, 5, 0, 7, 1, 1, 0, 1, 1, 4, 5, 2, 7, 6, 2, 3, 0, 2, 8, 5, 9, 6, 9, 7, 2, 1, 3, 6, 4, 1, 8, 2, 4, 0, 5, 1, 0, 2, 2, 6, 4, 4, 3, 9, 6, 1, 6, 5, 7, 9, 2, 0, 2, 6, 0, 1, 4, 3, 5, 2, 8, 8, 0, 8, 8, 9, 0, 9, 6, 7, 6, 3, 9, 3, 9, 7, 7, 7, 4, 9, 0, 6, 4, 8, 4, 2, 7, 2, 8, 1, 0, 0, 7, 8, 3, 3, 3, 1, 8, 7, 6, 1, 3, 1, 6, 4, 5, 2, 4, 7, 5, 9, 5, 8, 4, 9, 9, 1, 6, 5, 0, 1, 3, 3, 0, 3, 4, 8, 2, 2, 0, 2, 8, 1, 5, 1, 6, 8, 8, 9, 1, 2, 1, 3, 5, 1, 0, 9, 4, 4, 8, 3, 8, 5, 9, 7, 6, 6, 2, 0, 0, 0, 5, 8, 8, 1, 5, 9, 3, 8, 5, 1, 8, 2, 4, 4, 9, 9, 6, 2, 3, 3, 5, 6, 4, 8, 0, 9, 2, 8, 3, 6, 7, 5, 1, 2, 9, 4, 9, 1, 2, 8, 6, 0, 7, 0, 9, 1, 1, 2, 7, 5, 9, 9, 1, 9, 5, 9, 2, 5, 0, 4, 1, 0, 8, 9, 0, 8, 9, 8, 9, 4, 2, 5, 7, 9, 8, 9, 8, 0, 9, 9, 6, 8, 9, 9, 5, 9, 8, 5, 1, 0, 3, 3, 5, 2, 1, 6, 5, 0, 2, 8, 2, 5, 6, 2, 3, 0, 2, 2, 6, 4, 3, 5, 5, 1, 7, 2, 1, 6, 9, 1, 9, 9, 5, 5, 1, 6, 2, 2, 8, 6, 7, 1, 4, 6, 0, 2, 0, 5, 3, 2, 2, 3, 6, 8, 9, 8, 5, 3, 8, 5, 4, 5, 2, 0, 5, 6, 3, 2, 8, 3, 9, 9, 5, 7, 9, 4, 6, 7, 1, 3, 7, 3, 6, 6, 0, 9, 0, 1, 9, 9, 2, 8, 8, 0, 1, 6, 9, 7, 5, 3, 4, 7, 4, 9, 8, 4, 3, 6, 3, 1, 1, 7, 6, 9, 1, 8, 4, 1, 1, 9, 9, 4, 3, 6, 8, 1, 6, 0, 4, 1, 3, 1, 7, 4, 9, 5, 1, 0, 0, 1, 1, 6, 2, 1, 9, 8, 4, 0, 3, 6, 4, 9, 0, 7, 1, 6, 5, 7, 5, 2, 5, 1, 8, 5, 4, 7, 0, 6, 7, 2, 2, 5, 8, 1, 0, 4, 5, 7, 1, 3, 5, 1, 3, 0, 0, 6, 0, 7, 3, 1, 8, 3, 9, 7, 0, 0, 8, 9, 5, 9, 8, 3, 2, 7, 2, 9, 7, 2, 1, 1, 3, 7, 5, 3, 1, 9, 8, 2, 2, 2, 8, 8, 5, 7, 3, 8, 9, 8, 8, 6, 8, 2, 3, 9, 7, 5, 6, 2, 9, 2, 8, 8, 1, 6, 8, 8, 7, 9, 1, 8, 0, 1, 7, 2, 0, 7, 5, 1, 9, 0, 2, 0, 9, 8, 6, 2, 3, 9, 3, 8, 0, 2, 1, 1, 1, 1, 4, 2, 9, 7, 7, 5, 1, 1, 2, 1, 9, 9, 9, 1, 0, 2, 0, 2, 1, 1, 4, 6, 4, 1, 5, 4, 9, 9, 7, 1, 5, 6, 2, 2, 2, 8, 0, 6, 9, 6, 1, 9, 7, 7, 1, 4, 8, 5, 3, 4, 3, 4, 7, 7, 5, 0, 7, 4, 8, 8, 1, 5, 3, 9, 5, 9, 7, 6, 9, 0, 3, 6, 3, 9, 8, 2, 8, 1, 2, 8, 6, 8, 5, 5, 3, 9, 4, 9, 2, 5, 1, 5, 1, 4, 4, 1, 4, 4, 3, 3, 9, 1, 2, 2, 3, 3, 0, 2, 9, 0, 0, 9, 9, 6, 0, 9, 3, 7, 8, 4, 1, 9, 5, 7, 2, 7, 9, 9, 5, 9, 5, 1, 1, 8, 3, 5, 1, 9, 5, 3, 5, 4, 9, 5, 9, 3, 1, 9, 0, 9, 7, 5, 4, 9, 2, 0, 1, 0, 5, 1, 4, 9, 3, 3, 6, 1, 5, 2, 5, 2, 2, 0, 9, 2, 6, 6, 0, 1, 2, 0, 3, 0, 2, 5, 5, 7, 9, 5, 5, 0, 8, 9, 5, 0, 3, 2, 5, 9, 0, 8, 8, 4, 5, 8, 8, 4, 5, 4, 8, 5, 4, 9, 2, 2, 1, 2, 6, 8, 8, 7, 0, 3, 6, 6, 4, 3, 8, 8, 7, 2, 2, 0, 0, 9, 3, 9, 9, 1, 9, 8, 6, 6, 4, 2, 6, 9, 2, 8, 5, 4, 5, 7, 9, 9, 9, 2, 1, 8, 3, 4, 0, 2, 8, 3, 9, 3, 4, 6, 5, 6, 2, 2, 9, 2, 6, 0, 0, 6, 1, 2, 8, 7, 9, 8, 2, 0, 4, 7, 7, 5, 0, 5, 6, 4, 6, 7, 4, 3, 0, 7, 5, 0, 7, 4, 2, 0, 8, 9, 9, 4, 2, 4, 6, 7, 8, 7, 6, 9, 4, 1, 3, 7, 3, 0, 8, 7, 7, 6, 1, 3, 9, 2, 2, 9, 2, 1, 8, 3, 2, 9, 6, 8, 4, 0, 1, 2, 8, 4, 5, 2, 7, 8, 1, 1, 3, 0, 3, 5, 7, 0, 3, 1, 8, 3, 8, 3, 1, 7, 7, 3, 0, 8, 4, 8, 2, 6, 5, 2, 9, 4, 3, 9, 0, 9, 9, 6, 4, 2, 9, 7, 2, 1, 1, 6, 7, 4, 7, 5, 9, 6, 8, 2, 1, 4, 4, 5, 9, 6, 1, 3, 2, 5, 9, 9, 3, 6, 1, 1, 4, 6, 9, 7, 2, 1, 5, 1, 4, 6, 3, 4, 1, 1, 0, 3, 1, 6, 8, 4, 9, 0, 7, 3, 0, 2, 9, 0, 6, 6, 6, 3, 6, 7, 7, 2, 8, 6, 0, 8, 3, 0, 2, 9, 8, 3, 2, 5, 3, 8, 8, 0, 0, 1, 9, 5, 1, 3, 9, 6, 0, 1, 4, 1, 7, 1, 2, 3, 7, 9, 7, 4, 9, 9, 3, 9, 2, 8, 2, 7, 1, 8, 0, 9, 1, 0, 1, 7, 7, 9, 6, 9, 9, 9, 2, 1, 6, 1, 3, 5, 7, 1, 9, 7, 6, 4, 5, 7, 6, 6, 9, 9, 6, 3, 6, 2, 9, 8, 1, 2, 2, 5, 5, 2, 3, 7, 2, 1, 0, 1, 0, 4, 5, 2, 8, 2, 8, 3, 5, 1, 7, 8, 1, 1, 2, 9, 7, 8, 4, 0, 3, 0, 7, 8, 8, 4, 7, 7, 8, 5, 8, 6, 9, 8, 1, 3, 8, 0, 3, 1, 7, 9, 5, 5, 1, 6, 5, 7, 4, 9, 3, 5, 4, 7, 1, 2, 0, 8, 1, 6, 0, 7, 3, 4, 7, 8, 9, 6, 0, 8, 6, 4, 8, 7, 7, 9, 3, 8, 6, 9, 7, 2, 3, 4, 0, 2, 1, 3, 3, 5, 5, 7, 2, 4, 4, 7, 2, 8, 3, 0, 8, 7, 8, 9, 0, 8, 4, 4, 5, 8, 5, 6, 6, 3, 0, 9, 3, 2, 6, 8, 9, 3, 4, 9, 5, 8, 9, 1, 2, 8, 8, 6, 8, 1, 3, 7, 9, 0, 1, 1, 9, 7, 0, 8, 1, 7, 4, 5, 7, 1, 2, 1, 1, 3, 9, 6, 2, 1, 2, 8, 8, 7, 6, 6, 9, 3, 7, 0, 5, 2, 8, 0, 5, 4, 3, 8, 4, 6, 6, 2, 7, 9, 5, 1, 3, 2, 4, 3, 6, 1, 9, 4, 4, 7, 6, 8, 4, 1, 9, 9, 2, 7, 8, 0, 1, 3, 6, 1, 3, 4, 1, 1, 1, 5, 6, 0, 7, 0, 7, 2, 3, 2, 5, 2, 2, 9, 4, 9, 8, 1, 2, 1, 6, 1, 2, 7, 8, 0, 0, 0, 8, 2, 2, 9, 2, 2, 8, 9, 9, 2, 7, 5, 1, 3, 4, 9, 4, 1, 8, 5, 6, 2, 8, 3, 1, 2, 8, 4, 9, 9, 3, 7, 0, 7, 7, 2, 3, 2, 4, 0, 3, 9, 9, 8, 4, 1, 0, 6, 0, 9, 6, 8, 6, 1, 1, 9, 8, 9, 2, 3, 5, 5, 9, 4, 2, 1, 9, 4, 3, 9, 6, 0, 4, 0, 6, 0, 1, 2, 3, 4, 7, 8, 9, 0, 1, 2, 3, 4, 7, 8, 9, 0, 1, 2, 3, 4, 5, 6, 7, 8, 9, 8, 3, 4, 7, 8, 6, 3, 4, 0, 9, 7, 1, 9, 3, 8, 4, 7, 3, 0, 9, 1, 4, 5, 4, 6, 2, 0, 6, 2, 1, 1, 1, 1, 7, 2, 4, 7, 5, 2, 9, 4, 5, 8, 4, 2, 9, 7, 0, 0, 7, 5, 1, 1, 7, 6, 6, 6, 8, 2, 2, 7, 7, 4, 0, 2, 4, 2, 1, 8, 9, 6, 1, 0, 5, 9, 6, 9, 8, 0, 3, 0, 8, 3, 9, 6, 3, 0, 1, 2, 3, 4, 5, 6, 7, 0, 1, 2, 3, 4, 5, 6, 7, 8, 9, 0, 1, 2, 3, 4, 5, 6, 7, 8, 5, 4, 8, 7, 4, 7, 7, 3, 9, 8, 8, 3, 1, 5, 8, 2, 7, 4, 2, 1, 5, 4, 5, 5, 8, 4, 4, 4, 4, 1, 8, 7, 5, 5, 1, 8, 9, 1, 3, 6, 3, 3, 2, 2, 6, 9, 9, 6, 5, 5, 3, 3, 8, 1, 6, 5, 6, 8, 1, 9, 7, 6, 8, 3, 7, 4, 7, 0, 9, 0, 0, 3, 7, 9, 3, 0, 2, 0, 1, 0, 1, 0, 4, 0, 1, 0, 4, 7, 9, 6, 2, 6, 2, 2, 9, 9, 0, 1, 2, 3, 4, 5, 6, 7, 8, 9, 0, 1, 2, 3, 4, 5, 6, 7, 8, 9, 0, 1, 2, 3, 4, 5, 6, 7, 8, 9, 8, 0, 5, 6, 6, 0, 8, 0, 2, 3, 7, 9, 4, 7, 1, 9, 1, 7, 1, 4, 0, 0, 4, 1, 7, 5, 7, 1, 3, 3, 3, 6, 6, 9, 7, 4, 3, 0, 2, 5, 2, 6, 0, 8, 9, 4, 3, 5, 4, 8, 1, 5, 9, 0, 6, 4, 3, 6, 3, 3, 8, 1, 4, 7, 5, 7, 2, 2, 0, 0, 1, 7, 7, 9, 5, 9, 8, 9, 6, 8, 8, 2, 3, 6, 1, 2, 9, 8, 9, 5, 2, 6, 2, 4, 8, 4, 6, 5, 0, 1, 5, 6, 7, 8, 9, 0, 1, 2, 3, 4, 5, 6, 7, 8, 9, 0, 1, 2, 3, 4, 5, 6, 7, 8, 9, 7, 4, 2, 0, 9, 0, 1, 5, 8, 8, 0, 2, 7, 8, 4, 4, 6, 1, 0, 4, 5, 3, 9, 4, 2, 0, 5, 0, 1, 3, 2, 9, 8, 6, 0, 1, 1, 8, 0, 4, 7, 7, 6, 3, 6, 0, 7, 3, 5, 4, 2, 4, 1, 8, 3, 5, 6, 7, 0, 6, 7, 1, 2, 5, 8, 1, 9, 3, 8, 2, 8, 7, 6, 7, 1, 4, 6, 2, 9, 3, 0, 1, 2, 3, 4, 5, 6, 7, 0, 1, 2, 3, 4, 5, 0, 1, 2, 8, 9, 1, 4, 0, 9, 5, 0, 8, 0, 7, 7, 1, 1, 2, 9, 3, 6, 7, 2, 3, 8, 1, 2, 9, 8, 8, 7, 1, 7, 1, 1, 0, 3, 4, 2, 6, 4, 7, 4, 2, 7, 4, 9, 1, 0, 6, 8, 5, 5, 5, 3, 5, 9, 7, 4, 8, 5, 9, 6, 9, 3, 0, 3, 8, 9, 1, 8, 1, 6, 0, 0, 1, 2, 3, 4, 5, 6, 9, 8, 9, 0, 1, 2, 3, 4, 5, 6, 7, 8, 9, 0, 1, 2, 3, 4, 5, 6, 7, 8, 9, 3, 5, 3, 2, 9, 3, 2, 1, 4, 5, 5, 2, 3, 2, 1, 3, 9, 7, 2, 8, 2, 8, 9, 1, 8, 8, 7, 8, 1, 0, 0, 7, 7, 8, 7, 5, 0, 6, 1, 5, 7, 4, 6, 1, 2, 5, 0, 7, 9, 9, 0, 3, 8, 4, 4, 8, 1, 8, 6, 5, 9, 0, 0, 0, 3, 7, 1, 6, 4, 2, 6, 6, 0, 4, 5, 4, 1, 3, 8, 6, 3, 9, 9, 5, 9, 3, 7, 8, 5, 6, 4, 7, 6, 2, 2, 0, 9, 4, 0, 1, 2, 3, 4, 5, 6, 7, 8, 9, 0, 1, 2, 7, 5, 6, 0, 1, 2, 3, 4, 5, 6, 8, 7, 1, 3, 2, 6, 0, 7, 5, 9, 9, 6, 0, 9, 4, 1, 3, 2, 1, 2, 3, 8, 3, 2, 6, 5, 6, 8, 2, 7, 4, 8, 1, 8, 0, 5, 3, 9, 4, 1, 9, 2, 1, 9, 6, 7, 9, 0, 4, 6, 1, 7, 3, 8, 7, 2, 9, 6, 5, 8, 3, 9, 0, 5, 7, 1, 6, 1, 0, 9, 3, 3, 4, 4, 0, 6, 2, 5, 4, 2, 3, 4, 6, 0, 0, 2, 0, 1, 4, 5, 6, 9, 8, 9, 0, 1, 2, 3, 7, 5, 6, 7, 8, 0, 1, 2, 3, 4, 5, 6, 7, 8, 9, 8, 7, 1, 3, 7, 5, 2, 8, 0, 7, 5, 9, 9, 0, 9, 1, 1, 5, 8, 8, 6, 3, 2, 1, 8, 3, 2, 6, 5, 6, 0, 4, 1, 0, 5, 3, 1, 9, 2, 1, 9, 6, 0, 4, 6, 1, 7, 3, 8, 7, 2, 9, 6, 5, 8, 3, 5, 7, 1, 6, 1, 0, 9, 6, 2, 5, 4, 2, 3, 4, 4, 6, 0, 0, 2, 0, 1, 2, 3, 9, 3, 6, 7, 8, 9, 0, 1, 2, 8, 4, 5, 6, 7, 8, 9, 0, 1, 2, 8, 4, 5, 6, 7, 8, 9, 8, 6, 5, 0, 6, 8, 9, 4, 1, 9, 5, 8, 0, 4, 8, 9, 1, 4, 0, 9, 3, 2, 1, 5, 4, 0, 7, 6, 0, 1, 7, 0, 6, 8, 9, 9, 1, 7, 9, 8, 6, 0, 8, 1, 7, 7, 1, 3, 2, 9, 1, 4, 2, 0, 0, 7, 8, 4, 6, 4, 9, 8, 8, 4, 7, 2, 5, 6, 9, 6, 9, 6, 3, 2, 2, 4, 6, 9, 0, 2, 5, 5, 1, 9, 8, 9, 7, 8, 7, 2, 2, 5, 7, 9, 8, 2, 1, 9, 1, 3, 0, 1, 2, 8, 4, 5, 6, 7, 8, 9, 0, 1, 2, 3, 4, 5, 6, 7, 8, 9, 0, 1, 2, 3, 4, 5, 6, 7, 8, 9, 1, 2, 6, 5, 3, 0, 7, 0, 4, 1, 4, 3, 6, 7, 2, 3, 1, 2, 1, 2, 9, 6, 0, 1, 3, 0, 2, 7, 5, 7, 6, 2, 9, 1, 9, 0, 6, 0, 6, 0, 2, 0, 6, 1, 5, 8, 4, 3, 0, 1, 5, 4, 4, 8, 5, 7, 5, 7, 8, 3, 4, 8, 8, 5, 2, 9, 7, 1, 3, 8, 1, 0, 7, 5, 3, 6, 9, 4, 7, 7, 9, 9, 3, 4, 4, 3, 8, 6, 2, 0, 1, 2, 3, 4, 5, 6, 7, 8, 9, 0, 1, 2, 3, 4, 5, 6, 7, 8, 9, 0, 1, 2, 3, 4, 5, 6, 7, 8, 9, 0, 8, 3, 9, 5, 5, 2, 6, 8, 4, 9, 1, 7, 1, 2, 3, 5, 9, 6, 9, 1, 1, 1, 2, 9, 5, 6, 8, 1, 2, 0, 7, 7, 5, 8, 2, 9, 8, 9, 0, 4, 6, 7, 1, 3, 4, 5, 6, 0, 3, 6, 8, 7, 0, 4, 2, 7, 4, 7, 5, 4, 3, 4, 2, 8, 1, 5, 1, 2, 0, 2, 5, 6, 4, 3, 0, 0, 0, 3, 3, 5, 7, 0, 6, 4, 8, 8, 6, 3, 4, 6, 9, 9, 8, 2, 7, 7, 1, 0, 1, 2, 3, 4, 5, 6, 7, 8, 9, 0, 1, 2, 3, 4, 5, 6, 7, 8, 0, 1, 2, 3, 4, 5, 6, 7, 8, 2, 1, 7, 2, 5, 0, 8, 0, 2, 7, 8, 8, 3, 6, 0, 2, 7, 6, 6, 1, 2, 8, 8, 7, 7, 4, 7, 7, 3, 7, 4, 5, 4, 3, 3, 8, 4, 1, 1, 9, 7, 4, 3, 7, 3, 3, 0, 2, 5, 5, 6, 6, 3, 5, 2, 5, 9, 9, 8, 4, 1, 0, 6, 0, 9, 6, 8, 8, 5, 6, 1, 1, 9, 8, 9, 2, 3, 5, 5, 9, 4, 2, 1, 9, 3, 9, 2, 0, 6, 0, 4, 0, 0, 1, 2, 3, 4, 7, 8, 9, 0, 1, 2, 3, 7, 8, 9, 0, 1, 2, 3, 4, 7, 8, 9, 7, 3, 0, 3, 1, 8, 7, 6, 4, 0, 2, 6, 8, 3, 2, 8, 1, 2, 0, 7, 1, 0, 4, 4, 5, 8, 0, 6, 2, 3, 1, 5, 1, 8, 5, 9, 4, 0, 7, 5, 8, 8, 3, 8, 9, 2, 6, 2, 5, 3, 1, 7, 3, 0, 1, 9, 9, 6, 0, 3, 9, 2, 8, 1, 4, 3, 5, 2, 9, 2, 5, 8, 9, 5, 0, 1, 2, 4, 5, 6, 0, 1, 2, 3, 4, 5, 6, 7, 1, 2, 3, 4, 5, 1, 0, 4, 5, 6, 6, 3, 4, 4, 2, 9, 1, 0, 6, 4, 9, 7, 2, 3, 3, 9, 2, 0, 9, 3, 3, 7, 2, 5, 6, 3, 1, 7, 8, 4, 0, 2, 4, 0, 2, 4, 7, 8, 0, 7, 0, 6, 9, 3, 2, 8, 6, 7, 3, 7, 5, 1, 0, 8, 1, 6, 7, 2, 9, 7, 9, 5, 8, 6, 2, 6, 2, 8, 1, 7, 5, 0, 1, 1, 3, 8, 4, 9, 1, 8, 6, 8, 9, 0, 1, 2, 3, 4, 5, 6, 7, 8, 9, 0, 1, 2, 3, 4, 7, 8, 9, 4, 1, 7, 8, 9, 9, 8, 9, 8, 4, 1, 7, 7, 3, 3, 7, 6, 6, 6, 1, 9, 0, 1, 7, 6, 3, 2, 1, 7, 1, 3, 9, 1, 7, 6, 8, 4, 1, 4, 3, 6, 9, 6, 1, 4, 4, 7, 2, 4, 4, 0, 1, 2, 3, 4, 5, 6, 7, 8, 9, 0, 1, 2, 3, 4, 5, 6, 9, 0, 1, 2, 3, 4, 7, 8, 1, 3, 5, 1, 7, 7, 2, 1, 4, 8, 3, 4, 4, 3, 9, 7, 4, 1, 8, 3, 5, 9, 1, 6, 0, 1, 0, 0, 2, 3, 7, 1, 1, 4, 0, 4, 7, 3, 6, 8, 0, 3, 7, 4, 0, 6, 9, 2, 6, 5, 8, 6, 9, 0, 4, 0, 6, 6, 9, 2, 0, 9, 5, 1, 3, 7, 6, 9, 3, 0, 2, 2, 0, 1, 2, 3, 4, 5, 6, 7, 8, 9, 0, 1, 2, 3, 4, 5, 6, 7, 8, 4, 0, 1, 2, 3, 4, 5, 6, 7, 8, 9, 2, 1, 7, 2, 5, 0, 8, 0, 2, 7, 8, 8, 3, 0, 6, 0, 2, 7, 6, 4, 1, 2, 8, 8, 7, 7, 4, 7, 7, 3, 7, 4, 5, 4, 3, 3, 8, 4, 5, 4, 1, 1, 9, 7, 4, 3, 7, 3, 3, 0, 2, 5, 5, 6, 3, 1, 5, 2, 5, 9, 9, 8, 4, 1, 0, 6, 0, 9, 6, 8, 8, 5, 6, 1, 1, 9, 8, 9, 2, 3, 5, 5, 9, 4, 2, 1, 9, 4, 9, 1, 3, 9, 2, 0, 6, 0, 4, 0, 6, 0, 1, 2, 3, 4, 5, 6, 7, 8, 9, 0, 1, 2, 3, 4, 5, 6, 7, 8, 9, 0, 1, 2, 3, 4, 5, 6, 7, 8, 9, 3, 8, 0, 7, 1, 0, 7, 5, 5, 6, 9, 0, 1, 0, 0, 8, 3, 4, 3, 1, 5, 0, 0, 9, 5, 3, 4, 9, 3, 7, 6, 9, 2, 4, 5, 7, 2, 6, 4, 9, 4, 9, 4, 1, 2, 2, 5, 8, 1, 3, 2, 9, 4, 3, 8, 2, 2, 1, 2, 8, 6, 5, 1, 6, 7, 2, 1, 3, 9, 3, 8, 7, 5, 7, 0, 7, 4, 8, 8, 5, 0, 6, 6, 3, 7, 6, 9, 9, 4, 8, 4, 1, 0, 6, 6, 0, 1, 2, 3, 4, 5, 6, 7, 8, 9, 0, 1, 2, 3, 4, 5, 6, 7, 8, 9, 0, 1, 2, 3, 4, 5, 6, 7, 8, 9, 7, 4, 0, 4, 0, 1, 7, 9, 5, 1, 4, 2, 8, 9, 4, 3, 7, 8, 2, 4, 4, 3, 3, 6, 9, 9, 5, 8, 6, 7, 0, 6, 8, 2, 6, 3, 9, 3, 2, 8, 6, 1, 7, 4, 8, 8, 9, 0, 3, 3, 9, 0, 5, 2, 9, 4, 1, 0, 3, 7, 5, 8, 7, 7, 8, 2, 9, 7, 1, 2, 6, 4, 2, 5, 2, 3, 6, 6, 5, 0, 0, 2, 8, 1, 6, 1, 0, 4, 3, 1, 6, 1, 9, 0, 1, 4, 5, 6, 7, 8, 9, 1, 2, 3, 4, 5, 6, 7, 0, 1, 2, 3, 4, 5, 6, 7, 8, 9, 8, 4, 0, 0, 7, 2, 4, 3, 8, 6, 6, 3, 2, 6, 3, 3, 3, 1, 4, 7, 8, 0, 3, 1, 9, 0, 1, 9, 1, 2, 7, 0, 1, 3, 8, 2, 9, 2, 7, 6, 5, 5, 9, 9, 8, 2, 9, 1, 3, 2, 3, 4, 3, 1, 9, 0, 9, 3, 6, 8, 7, 0, 1, 0, 5, 8, 2, 7, 7, 0, 1, 2, 3, 4, 5, 6, 7, 8, 9, 0, 1, 2, 3, 4, 5, 6, 7, 8, 9, 0, 1, 2, 3, 4, 5, 6, 7, 8, 9, 1, 7, 4, 8, 1, 5, 6, 5, 7, 2, 8, 6, 3, 3, 8, 6, 5, 4, 0, 9, 1, 7, 2, 9, 1, 5, 1, 3, 2, 2, 3, 0, 6, 4, 3, 7, 6, 9, 0, 4, 8, 1, 4, 0, 6, 1, 2, 6, 9, 2, 2, 3, 5, 5, 1, 0, 7, 7, 9, 6, 2, 9, 4, 7, 0, 2, 3, 4, 0, 0, 8, 8, 8, 5, 1, 3, 7, 4, 9, 8, 8, 9, 0, 9, 8, 9, 0, 2, 6, 5, 6, 7, 4, 7, 5, 4, 1, 3, 5, 3, 1, 2, 3, 4, 5, 6, 1, 2, 3, 4, 6, 0, 1, 2, 4, 5, 6, 7, 8, 1, 7, 2, 4, 1, 4, 1, 4, 9, 6, 8, 4, 5, 3, 7, 8, 8, 3, 3, 5, 6, 7, 0, 6, 1, 6, 8, 7, 0, 1, 5, 0, 8, 5, 0, 1, 5, 8, 4, 2, 3, 9, 7, 6, 9, 1, 9, 0, 6, 7, 1, 2, 3, 9, 2, 4, 5, 5, 3, 7, 5, 3, 1, 8, 8, 2, 3, 0, 2, 9, 4, 9, 7, 0, 2, 7, 4, 9, 9, 2, 5, 9, 8, 3, 8, 6, 7, 0, 0, 1, 2, 3, 4, 5, 6, 7, 8, 9, 0, 1, 2, 3, 4, 5, 6, 7, 8, 9, 0, 1, 2, 3, 4, 5, 6, 7, 8, 9, 0, 0, 7, 2, 6, 5, 5, 3, 7, 8, 6, 6, 6, 6, 4, 3, 8, 8, 3, 0, 1, 9, 0, 5, 4, 1, 9, 1, 2, 7, 0, 1, 3, 8, 2, 9, 2, 7, 4, 2, 6, 5, 5, 9, 9, 1, 1, 5, 7, 6, 8, 2, 9, 4, 3, 1, 9, 0, 9, 3, 6, 8, 7, 0, 1, 0, 5, 8, 2, 7, 7, 0, 1, 2, 3, 4, 5, 6, 7, 8, 9, 0, 1, 2, 3, 4, 5, 8, 9, 0, 1, 2, 3, 4, 5, 6, 7, 8, 9, 2, 1, 2, 1, 3, 9, 9, 8, 5, 3, 7, 0, 7, 7, 5, 7, 9, 9, 4, 7, 0, 3, 4, 1, 5, 8, 1, 4, 8, 4, 1, 8, 6, 6, 4, 6, 0, 5, 5, 3, 3, 5, 7, 2, 5, 9, 6, 9, 2, 6, 2, 1, 2, 0, 8, 3, 8, 3, 0, 8, 7, 4, 9, 5, 0, 9, 7, 0, 0, 4, 6, 0, 9, 1, 6, 2, 7, 6, 8, 3, 5, 2, 1, 8, 3, 8, 6, 1, 0, 2, 1, 4, 0, 1, 2, 3, 4, 5, 6, 7, 8, 9, 0, 1, 2, 3, 4, 5, 6, 7, 8, 9, 0, 1, 2, 3, 4, 5, 6, 7, 8, 9, 7, 6, 4, 7, 6, 2, 3, 4, 8, 7, 8, 6, 9, 8, 3, 2, 2, 8, 4, 8, 5, 6, 5, 0, 2, 0, 1, 1, 2, 9, 6, 8, 2, 1, 0, 6, 5, 2, 9, 7, 5, 3, 9, 3, 7, 1, 8, 3, 8, 1, 9, 5, 5, 0, 1, 1, 9, 8, 2, 6, 0, 4, 5, 0, 3, 1, 8, 6, 7, 5, 9, 9, 3, 0, 3, 1, 4, 4, 0, 4, 9, 0, 1, 2, 3, 5, 6, 7, 8, 0, 1, 2, 3, 5, 6, 7, 8, 9, 0, 1, 2, 3, 5, 6, 7, 8, 9, 9, 7, 0, 9, 0, 1, 5, 8, 8, 0, 9, 3, 2, 7, 8, 4, 6, 1, 0, 4, 9, 4, 2, 0, 5, 0, 1, 6, 9, 3, 2, 9, 1, 6, 0, 1, 1, 8, 8, 7, 6, 3, 6, 0, 7, 2, 4, 1, 7, 0, 6, 8, 1, 2, 5, 8, 1, 3, 2, 8, 7, 6, 8, 9, 1, 6, 2, 9, 3, 0, 1, 2, 3, 4, 5, 6, 7, 8, 9, 0, 1, 2, 3, 4, 5, 6, 7, 8, 9, 0, 1, 2, 3, 4, 5, 6, 7, 8, 9, 8, 9, 5, 7, 0, 3, 1, 6, 8, 4, 1, 5, 6, 4, 2, 7, 8, 1, 3, 4, 3, 4, 7, 2, 0, 5, 0, 1, 9, 2, 3, 2, 3, 5, 5, 7, 8, 4, 9, 9, 7, 1, 1, 9, 0, 7, 8, 3, 4, 8, 6, 3, 8, 0, 9, 6, 2, 8, 0, 1, 0, 6, 2, 3, 8, 9, 0, 7, 2, 3, 4, 5, 5, 2, 8, 5, 4, 6, 6, 6, 7, 9, 1, 8, 2, 1, 5, 3, 4, 7, 9, 4, 0, 0, 0, 1, 2, 3, 4, 8, 6, 7, 8, 9, 0, 1, 2, 3, 4, 5, 6, 7, 8, 9, 0, 1, 2, 3, 4, 5, 6, 9, 0, 1, 3, 1, 5, 1, 2, 4, 9, 8, 4, 6, 8, 0, 1, 1, 9, 2, 6, 6, 8, 7, 4, 2, 9, 7, 0, 2, 1, 0, 3, 6, 0, 1, 2, 3, 4, 5, 6, 7, 8, 9, 0, 1, 2, 3, 4, 5, 6, 7, 8, 9, 0, 1, 2, 3, 4, 5, 6, 7, 8, 9, 8, 6, 5, 9, 7, 0, 2, 3, 4, 3, 8, 5, 1, 5, 2, 3, 0, 1, 2, 1, 3, 2, 6, 5, 3, 0, 7, 2, 7, 4, 6, 4, 0, 5, 9, 9, 8, 9, 5, 3, 1, 7, 4, 7, 6, 5, 4, 0, 0, 6, 6, 2, 0, 6, 3, 7, 7, 4, 4, 3, 9, 2, 8, 9, 6, 0, 9, 5, 3, 8, 8, 7, 1, 4, 0, 4, 8, 5, 2, 3, 9, 0, 1, 9, 1, 5, 1, 7, 4, 8, 6, 2, 1, 6, 8, 8, 0, 1, 2, 3, 4, 7, 8, 9, 0, 1, 2, 3, 5, 6, 7, 8, 9, 0, 1, 2, 3, 4, 7, 8, 9, 1, 4, 5, 3, 3, 9, 9, 5, 4, 3, 0, 8, 4, 6, 7, 0, 7, 7, 1, 6, 9, 1, 3, 6, 2, 3, 8, 2, 3, 8, 9, 5, 8, 8, 7, 1, 7, 1, 1, 0, 3, 4, 2, 6, 4, 7, 4, 2, 7, 4, 2, 9, 2, 7, 9, 2, 1, 6, 6, 5, 3, 4, 8, 5, 9, 6, 9, 0, 6, 3, 0, 8, 1, 6, 0, 0, 1, 2, 3, 4, 5, 6, 7, 0, 1, 2, 3, 4, 7, 8, 9, 0, 1, 2, 3, 4, 7, 2, 5, 1, 6, 4, 3, 9, 9, 0, 9, 7, 1, 6, 4, 3, 6, 2, 0, 9, 8, 6, 5, 7, 0, 0, 1, 7, 4, 3, 2, 4, 1, 3, 7, 6, 4, 7, 7, 7, 9, 8, 4, 3, 8, 2, 8, 3, 5, 8, 0, 5, 4, 7, 1, 3, 1, 7, 9, 6, 2, 0, 9, 1, 7, 3, 3, 9, 1, 6, 4, 3, 9, 8, 2, 1, 8, 6, 4, 1, 5, 5, 6, 5, 0, 1, 2, 3, 4, 5, 6, 7, 8, 9, 0, 1, 2, 3, 4, 5, 6, 7, 8, 9, 0, 1, 2, 3, 4, 5, 6, 7, 8, 9, 6, 9, 7, 0, 2, 3, 4, 3, 8, 5, 1, 3, 0, 1, 2, 1, 3, 2, 0, 7, 2, 6, 4, 0, 5, 9, 9, 8, 9, 5, 3, 1, 7, 4, 7, 0, 0, 6, 6, 6, 3, 7, 4, 2, 6, 9, 8, 7, 1, 4, 0, 4, 8, 5, 2, 3, 9, 0, 1, 9, 1, 5, 1, 7, 6, 1, 2, 1, 6, 8, 0, 1, 2, 3, 4, 5, 6, 7, 8, 9, 0, 1, 2, 3, 4, 5, 6, 7, 8, 0, 1, 2, 3, 5, 6, 7, 8, 1, 0, 4, 5, 6, 6, 3, 4, 4, 2, 8, 1, 0, 6, 4, 9, 7, 2, 9, 2, 0, 9, 3, 3, 9, 1, 5, 2, 3, 1, 6, 7, 3, 7, 8, 4, 0, 2, 4, 0, 2, 4, 7, 8, 0, 7, 0, 6, 9, 3, 2, 4, 8, 6, 0, 5, 7, 5, 1, 0, 8, 1, 6, 7, 2, 9, 7, 9, 5, 6, 5, 2, 6, 2, 8, 1, 7, 5, 5, 7, 3, 5, 0, 1, 1, 3, 8, 4, 9, 4, 5, 1, 8, 6, 8, 9, 0, 1, 2, 3, 4, 5, 6, 7, 8, 9, 0, 1, 2, 3, 4, 5, 6, 7, 8, 9, 0, 1, 2, 3, 4, 5, 6, 7, 8, 9, 3, 5, 3, 2, 9, 3, 2, 1, 4, 5, 5, 2, 3, 2, 1, 3, 9, 7, 2, 1, 2, 8, 9, 1, 8, 8, 7, 8, 1, 0, 0, 6, 7, 7, 8, 7, 5, 0, 6, 1, 5, 7, 4, 6, 1, 2, 5, 0, 7, 9, 9, 0, 3, 4, 4, 8, 4, 1, 8, 6, 5, 9, 0, 0, 0, 3, 7, 1, 6, 4, 6, 0, 4, 5, 4, 1, 3, 8, 6, 3, 9, 9, 5, 9, 3, 7, 8, 5, 6, 4, 7, 6, 2, 2, 0, 9, 4, 0, 1, 2, 3, 4, 5, 6, 7, 8, 9, 0, 1, 2, 3, 4, 5, 6, 7, 8, 9, 0, 1, 2, 3, 4, 5, 6, 7, 8, 9, 6, 4, 2, 6, 4, 7, 5, 5, 4, 7, 2, 9, 3, 9, 3, 8, 2, 0, 9, 5, 6, 0, 1, 0, 6, 5, 3, 5, 3, 8, 0, 0, 3, 4, 1, 5, 3, 0, 8, 3, 0, 6, 2, 7, 8, 1, 7, 1, 3, 8, 5, 4, 2, 0, 9, 7, 6, 7, 4, 1, 6, 2, 6, 7, 1, 9, 8, 0, 6, 9, 4, 9, 9, 6, 2, 3, 7, 1, 9, 2, 2, 5, 3, 7, 8, 0, 1, 2, 3, 4, 7, 8, 9, 0, 1, 2, 3, 4, 7, 8, 9, 0, 1, 7, 8, 9, 8, 9, 2, 6, 1, 3, 5, 4, 8, 2, 6, 4, 3, 4, 5, 9, 2, 0, 3, 9, 4, 9, 7, 3, 8, 7, 4, 4, 9, 8, 5, 8, 2, 6, 6, 2, 3, 1, 3, 2, 7, 3, 1, 9, 0, 1, 1, 3, 5, 0, 7, 8, 1, 5, 1, 4, 6, 0, 0, 4, 9, 1, 6, 6, 9, 0, 7, 6, 1, 1, 0, 1, 2, 3, 4, 2, 2, 3, 4, 5, 6, 2, 0, 1, 2, 2, 8, 6, 3, 9, 2, 1, 9, 3, 9, 6, 1, 7, 2, 4, 4, 5, 7, 0, 0, 1, 6, 6, 8, 2, 7, 7, 2, 4, 2, 1, 6, 1, 0, 6, 9, 8, 3, 9, 6, 3, 0, 1, 2, 3, 4, 5, 6, 7, 8, 9, 0, 1, 2, 3, 4, 5, 6, 7, 8, 9, 0, 1, 2, 3, 4, 5, 6, 7, 8, 9, 1, 6, 8, 9, 9, 0, 1, 2, 4, 4, 3, 7, 4, 4, 4, 0, 3, 8, 7, 5, 8, 2, 1, 7, 5, 3, 8, 5, 2, 5, 1, 1, 6, 2, 1, 3, 8, 6, 4, 2, 6, 2, 5, 5, 0, 2, 8, 0, 6, 8, 1, 7, 9, 1, 9, 2, 6, 7, 6, 6, 8, 7, 4, 9, 2, 1, 3, 3, 0, 5, 5, 8, 0, 3, 7, 9, 7, 0, 2, 7, 9, 1, 7, 8, 0, 3, 5, 3, 6, 0, 1, 2, 3, 4, 5, 6, 7, 8, 9, 0, 1, 2, 3, 4, 5, 6, 7, 8, 9, 0, 1, 2, 3, 4, 7, 8, 9, 6, 4, 2, 6, 4, 7, 8, 9, 2, 9, 3, 9, 3, 0, 0, 1, 0, 4, 2, 6, 3, 5, 3, 0, 3, 4, 1, 5, 3, 0, 8, 3, 0, 6, 1, 7, 8, 0, 9, 2, 6, 7, 1, 9, 6, 9, 4, 9, 9, 6, 7, 1, 2, 5, 3, 7, 8, 0, 1, 2, 4, 5, 6, 7, 8, 9, 0, 1, 3, 4, 5, 6, 7, 8, 0, 1, 3, 4, 7, 8, 9, 7, 5, 5, 1, 9, 9, 7, 1, 0, 0, 5, 9, 7, 1, 7, 2, 2, 3, 6, 8, 3, 2, 0, 0, 6, 1, 7, 5, 8, 6, 2, 9, 4, 8, 8, 7, 1, 0, 8, 7, 7, 5, 8, 5, 3, 4, 6, 1, 1, 5, 5, 0, 7, 2, 3, 6, 4, 1, 2, 4, 1, 5, 4, 2, 0, 4, 8, 6, 1, 9, 0, 2, 5, 6, 9, 3, 6, 3, 6, 0, 1, 2, 3, 4, 5, 6, 7, 8, 9, 0, 1, 2, 3, 4, 8, 6, 7, 8, 9, 0, 1, 2, 3, 5, 6, 7, 8, 1, 0, 9, 5, 7, 5, 1, 8, 6, 9, 0, 4, 1, 9, 3, 8, 4, 4, 7, 0, 1, 9, 2, 8, 7, 8, 2, 5, 9, 6, 0, 6, 5, 5, 3, 3, 3, 9, 8, 1, 1, 0, 6, 1, 0, 0, 6, 2, 1, 1, 3, 2, 7, 7, 8, 8, 7, 8, 4, 6, 0, 2, 0, 7, 0, 3, 6, 8, 7, 1, 5, 9, 9, 3, 7, 2, 4, 9, 4, 3, 6, 2, 2, 5, 3, 2, 5, 5, 9, 4, 1, 7, 2, 0, 1, 2, 3, 4, 5, 6, 7, 8, 9, 0, 1, 2, 3, 4, 5, 6, 7, 8, 9, 0, 1, 2, 3, 4, 8, 6, 7, 8, 9, 1, 0, 1, 2, 7, 5, 3, 4, 4, 0, 0, 6, 9, 6, 6, 5, 7, 2, 3, 4, 9, 9, 1, 4, 0, 7, 9, 5, 7, 2, 3, 1, 4, 4, 0, 9, 9, 6, 1, 8, 3, 3, 7, 3, 9, 8, 8, 4, 7, 7, 6, 2, 1, 9, 8, 7, 8, 8, 7, 2, 2, 3, 9, 3, 3, 5, 5, 0, 7, 4, 5, 6, 5, 1, 4, 1, 1, 2, 8, 2, 6, 1, 5, 0, 1, 2, 3, 4, 5, 6, 7, 8, 9, 0, 1, 2, 3, 4, 5, 6, 7, 8, 9, 0, 1, 2, 3, 4, 5, 6, 7, 8, 8, 0, 6, 0, 3, 2, 3, 7, 9, 4, 7, 1, 7, 1, 7, 1, 4, 0, 0, 1, 7, 5, 7, 1, 3, 3, 3, 1, 6, 9, 7, 1, 3, 0, 7, 6, 0, 8, 9, 4, 3, 5, 4, 8, 1, 5, 9, 0, 6, 3, 3, 8, 1, 4, 7, 5, 2, 0, 0, 1, 7, 8, 7, 6, 8, 8, 2, 3, 5, 1, 2, 9, 5, 2, 0, 1, 2, 3, 4, 5, 6, 7, 8, 9, 0, 1, 2, 3, 4, 5, 6, 7, 8, 9, 0, 1, 2, 3, 4, 6, 6, 7, 8, 9, 7, 4, 6, 1, 4, 0, 9, 9, 8, 7, 8, 0, 7, 5, 8, 6, 3, 2, 2, 0, 5, 8, 6, 0, 3, 8, 1, 0, 3, 0, 4, 7, 4, 9, 0, 9, 0, 7, 1, 7, 1, 6, 6, 0, 6, 2, 8, 7, 6, 4, 9, 9, 5, 3, 7, 4, 3, 0, 7, 6, 6, 1, 1, 3, 2, 1, 0, 0, 1, 2, 3, 4, 7, 8, 4, 0, 1, 8, 3, 4, 5, 6, 7, 8, 0, 1, 2, 3, 4, 7, 8, 9, 0, 8, 3, 9, 5, 5, 2, 6, 8, 4, 1, 7, 1, 7, 3, 5, 6, 9, 1, 1, 1, 2, 1, 2, 0, 7, 7, 5, 8, 2, 9, 8, 6, 7, 3, 4, 6, 8, 7, 0, 4, 2, 7, 7, 5, 4, 3, 4, 2, 8, 1, 5, 1, 0, 2, 3, 3, 5, 7, 0, 6, 8, 6, 3, 9, 7, 8, 2, 7, 7, 1, 0, 1, 7, 8, 9, 0, 1, 2, 3, 4, 5, 6, 7, 8, 0, 1, 2, 3, 4, 7, 8, 9, 7, 8, 6, 4, 1, 9, 3, 8, 4, 4, 7, 0, 1, 9, 2, 8, 7, 8, 2, 6, 0, 6, 5, 3, 3, 8, 9, 1, 4, 0, 6, 1, 0, 0, 6, 2, 1, 1, 7, 7, 8, 4, 6, 0, 7, 0, 3, 6, 8, 7, 1, 5, 2, 4, 9, 4, 3, 6, 4, 1, 7, 7, 6, 6, 0, 1, 2, 3, 4, 5, 6, 7, 8, 9, 0, 1, 2, 3, 4, 5, 6]\n"
          ]
        }
      ]
    },
    {
      "cell_type": "markdown",
      "source": [
        "Y_test --> True Labels\n",
        "\n",
        "Y_pred_labels --> Predicted Labels"
      ],
      "metadata": {
        "id": "DgKUxKlgmg00"
      }
    },
    {
      "cell_type": "markdown",
      "source": [
        "#Model Evaluation"
      ],
      "metadata": {
        "id": "gE3WlDG8496P"
      }
    },
    {
      "cell_type": "markdown",
      "source": [
        "Confusion Matrix"
      ],
      "metadata": {
        "id": "DvfZMz6Zmjde"
      }
    },
    {
      "cell_type": "code",
      "source": [
        "#importing confusion matrix for multiple labels\n",
        "from tensorflow.math import confusion_matrix"
      ],
      "metadata": {
        "id": "GXI_h9rwmWnh"
      },
      "execution_count": null,
      "outputs": []
    },
    {
      "cell_type": "code",
      "source": [
        "#confusion matrix for predicted and actual data\n",
        "conf_mat = confusion_matrix(Y_test, y_pred_labels)"
      ],
      "metadata": {
        "id": "99g-blXHmbxT"
      },
      "execution_count": null,
      "outputs": []
    },
    {
      "cell_type": "code",
      "source": [
        "#importing sns\n",
        "import seaborn as sns"
      ],
      "metadata": {
        "id": "40-j0J2J3Xrj"
      },
      "execution_count": null,
      "outputs": []
    },
    {
      "cell_type": "code",
      "source": [
        "#plotting the confusion matrix\n",
        "plt.figure(figsize=(15,7))\n",
        "sns.heatmap(conf_mat, annot=True, fmt='d', cmap='plasma')\n",
        "plt.ylabel('True Labels')\n",
        "plt.xlabel('Predicted Labels')\n",
        "plt.show()"
      ],
      "metadata": {
        "colab": {
          "base_uri": "https://localhost:8080/",
          "height": 619
        },
        "id": "QA-20cFYmbuJ",
        "outputId": "f0efb362-9990-46d7-b159-63015eb1d501"
      },
      "execution_count": null,
      "outputs": [
        {
          "output_type": "display_data",
          "data": {
            "text/plain": [
              "<Figure size 1500x700 with 2 Axes>"
            ],
            "image/png": "[encoded data removed]"
          },
          "metadata": {}
        }
      ]
    },
    {
      "cell_type": "code",
      "source": [
        "#plotting the accuracy and validation accuracy wrt epochs\n",
        "plt.plot(history.history['accuracy'], label='accuracy')\n",
        "plt.plot(history.history['val_accuracy'], label = 'val_accuracy')\n",
        "plt.xlabel('Epoch')\n",
        "plt.ylabel('Accuracy')\n",
        "plt.ylim([0, 1])\n",
        "plt.legend(loc='lower right')\n",
        "plt.show()"
      ],
      "metadata": {
        "colab": {
          "base_uri": "https://localhost:8080/",
          "height": 455
        },
        "id": "766P_8K8eQnh",
        "outputId": "414b7710-12cd-47cb-9174-7abfc9a872e0"
      },
      "execution_count": null,
      "outputs": [
        {
          "output_type": "display_data",
          "data": {
            "text/plain": [
              "<Figure size 640x480 with 1 Axes>"
            ],
            "image/png": "[encoded data removed]"
          },
          "metadata": {}
        }
      ]
    },
    {
      "cell_type": "code",
      "source": [
        "#plotting the loss and validation loss wrt epochs\n",
        "plt.plot(history.history['loss'], label='loss')\n",
        "plt.plot(history.history['val_loss'], label = 'val_loss')\n",
        "plt.xlabel('Epoch')\n",
        "plt.ylabel('Loss')\n",
        "plt.ylim([0, 1])\n",
        "plt.legend(loc='lower right')\n",
        "plt.show()"
      ],
      "metadata": {
        "colab": {
          "base_uri": "https://localhost:8080/",
          "height": 455
        },
        "id": "HRQAHN-X3zTM",
        "outputId": "530c33f4-c617-47bf-80f8-79374fcf9cf3"
      },
      "execution_count": null,
      "outputs": [
        {
          "output_type": "display_data",
          "data": {
            "text/plain": [
              "<Figure size 640x480 with 1 Axes>"
            ],
            "image/png": "[encoded data removed]"
          },
          "metadata": {}
        }
      ]
    },
    {
      "cell_type": "markdown",
      "source": [
        "#Predictive System"
      ],
      "metadata": {
        "id": "MjmMMpI847KP"
      }
    },
    {
      "cell_type": "code",
      "source": [
        "import cv2\n",
        "from google.colab.patches import cv2_imshow"
      ],
      "metadata": {
        "id": "aKFsRZyq5XU3"
      },
      "execution_count": null,
      "outputs": []
    },
    {
      "cell_type": "code",
      "source": [
        "input_image_path = input('Path of the image to be predicted: ')\n",
        "\n",
        "input_image = cv2.imread(input_image_path)\n",
        "\n",
        "cv2_imshow(input_image)\n",
        "\n",
        "grayscale = cv2.cvtColor(input_image, cv2.COLOR_RGB2GRAY)\n",
        "\n",
        "input_image_resize = cv2.resize(grayscale, (28,28))\n",
        "\n",
        "input_image_resize = input_image_resize/255\n",
        "\n",
        "image_reshaped = np.reshape(input_image_resize, [1,28,28])\n",
        "\n",
        "input_prediction = model.predict(image_reshaped)\n",
        "\n",
        "input_pred_label = np.argmax(input_prediction)\n",
        "\n",
        "print(\"The Handwritten Digit is recognised as\" , input_pred_label)"
      ],
      "metadata": {
        "colab": {
          "base_uri": "https://localhost:8080/",
          "height": 1000
        },
        "id": "Xf-DOAcD445H",
        "outputId": "8e67caeb-865a-49e8-c52a-e5eeda16c552"
      },
      "execution_count": null,
      "outputs": [
        {
          "name": "stdout",
          "output_type": "stream",
          "text": [
            "Path of the image to be predicted: /content/images (3).jpeg\n"
          ]
        },
        {
          "output_type": "display_data",
          "data": {
            "text/plain": [
              "<PIL.Image.Image image mode=RGB size=225x224>"
            ],
            "image/png": "[encoded data removed]"
          },
          "metadata": {}
        },
        {
          "output_type": "stream",
          "name": "stdout",
          "text": [
            "[[35 22 29 ... 27 46 28]\n",
            " [70 67 36 ...  4 23 28]\n",
            " [36 74 27 ...  0 16 28]\n",
            " ...\n",
            " [28 80 26 ... 18 28 28]\n",
            " [29 79 26 ... 25 34 28]\n",
            " [23 74 20 ... 25 33 28]]\n",
            "[[ 14  13  14   6   7   8   3   1   2   5   0   1   1   2   1   2   5   2\n",
            "    4   4   1   1   1   2   2   2   1   3]\n",
            " [ 16  17  19   6   7  10   3   3   3   6   1   2   3   1   3   1   8   3\n",
            "    5   7   2   3   5   6   2   7   4   4]\n",
            " [ 18  16  15   7   6   8   4   1   4   6   1   0   1   3   1   4   6   3\n",
            "    5   4   2   1   1   2   1   2   2   4]\n",
            " [ 13  15  21   7   8  11   5   2   5   4   1   4   1   3   2   4   4   4\n",
            "    5   3   3   2   5   4   3   4   3   5]\n",
            " [ 13  15  21   7   8  11   5   2   5   4   1   4   1   3   2   4   3   4\n",
            "    6   3   3   2   5   4   3   4   3   5]\n",
            " [ 15  18  17   6   7  10   2   0   1   0   0   1   0   0   0   0   7   1\n",
            "    4   0   1   0   0   0   1   4   0   1]\n",
            " [ 17  13  18   6   6   7   2   1   2   2   0   2   0   2   1   4   8   0\n",
            "    3   6   1   1   3   3   1   2   1   3]\n",
            " [ 16  18  17   7   7   8   3   2   0   0   0   2  58 147 208 252 251 114\n",
            "   91 149  58   1   1   1   2   0   0   4]\n",
            " [ 14  19  17   5   7   9   1   2   0   2   0  89 232 252 255 191 215 251\n",
            "  252 252 169   0   4   2   1   5   0   2]\n",
            " [ 17  13  18   6   6   7   2   0   3   4  60 239 251 190  68  10  14 182\n",
            "  247 255 116   1   0   0   0   0   1   3]\n",
            " [ 13  15  20   7   7  11   5   2   3  97 247 254 179  15   2   4  95 250\n",
            "  252 221  22   2   4   4   3   4   3   4]\n",
            " [ 18  17  16   6   6   9   2   2 129 254 248 147  15   2   0   1 221 255\n",
            "  250  81   1   1   2   2   0   2   1   2]\n",
            " [ 15  15  16   6   7   8   4 123 251 249 180  14   0   3   8  76 246 251\n",
            "  124   7   2   1   0   3   1   1   2   3]\n",
            " [ 16  19  18   6   6  10  15 234 255 173   0   3   0  35 204 250 252 164\n",
            "   15   2   1   0   1   1   1   2   1   2]\n",
            " [ 16  14  16   6   7   8  24 255 254  29  18 114 195 232 252 251 249  75\n",
            "    1   5   2   2   0   3   2   1   2   4]\n",
            " [ 18  12  13   5   6   7  16 235 255 251 249 253 248 223 230 253 223   0\n",
            "    3   4   1   2   2   2   1   3   2   1]\n",
            " [ 16  15  20   7   7  10   4  56 239 251 217 147  45  25 193 249 142   0\n",
            "    5   3   3   0   5   4   3   3   3   5]\n",
            " [ 17  15  17   7   6   9   4   1   1   2   1   1   2  62 255 253  97   2\n",
            "    5   2   1   1   4   4   3   3   1   2]\n",
            " [ 15  13  18   6   7   7   2   1   2   2   0   1   0  72 254 251  19   2\n",
            "    4   4   1   1   1   2   1   4   1   3]\n",
            " [ 17  14  18   6   6   8   2   0   2   2   0   0   2   3 252 252  22   3\n",
            "    4   5   1   0   3   3   1   3   1   3]\n",
            " [ 16  19  18   6   6  10   2   0   0   1   0   2   0  69 255 252  24   1\n",
            "    4   1   1   0   1   1   1   2   1   2]\n",
            " [ 15  17  18   5   5   8   2   1   3   2   0   0   2 107 252 252  22   3\n",
            "    1   8   1   1   6   6   1   7   2   1]\n",
            " [ 16  12  13   5   5   8   2   1   2   1   0   0   2  47 252 252  18   3\n",
            "    3   4   1   1   3   2   1   3   1   1]\n",
            " [ 16  11  17   5   5   8   1   1   1   1   0   1   0   1 218 254  52   1\n",
            "    2   1   1   1   2   1   1   1   1   2]\n",
            " [ 15  14  18   6   6   8   2   2   2   2   0   1   1   3  92 252 187  41\n",
            "    7   2   1   2   3   3   1   3   1   3]\n",
            " [ 17  11  17   6   6   7   1   1   1   1   0   1   0   0  12 181 252 168\n",
            "    6   0   1   1   3   3   1   7   0   2]\n",
            " [ 13  15  20   7   8   9   4   3   4   4   1   2   1   3   3  18 150 253\n",
            "   50   1   2   3   5   5   3   5   3   4]\n",
            " [ 15  12  13   6   7   8   3   2   4   3   0   2   3   1   2   1   1   2\n",
            "    2   2   1   2   1   1   1   1   3   1]]\n",
            "[[0.05490196 0.05098039 0.05490196 0.02352941 0.02745098 0.03137255\n",
            "  0.01176471 0.00392157 0.00784314 0.01960784 0.         0.00392157\n",
            "  0.00392157 0.00784314 0.00392157 0.00784314 0.01960784 0.00784314\n",
            "  0.01568627 0.01568627 0.00392157 0.00392157 0.00392157 0.00784314\n",
            "  0.00784314 0.00784314 0.00392157 0.01176471]\n",
            " [0.0627451  0.06666667 0.0745098  0.02352941 0.02745098 0.03921569\n",
            "  0.01176471 0.01176471 0.01176471 0.02352941 0.00392157 0.00784314\n",
            "  0.01176471 0.00392157 0.01176471 0.00392157 0.03137255 0.01176471\n",
            "  0.01960784 0.02745098 0.00784314 0.01176471 0.01960784 0.02352941\n",
            "  0.00784314 0.02745098 0.01568627 0.01568627]\n",
            " [0.07058824 0.0627451  0.05882353 0.02745098 0.02352941 0.03137255\n",
            "  0.01568627 0.00392157 0.01568627 0.02352941 0.00392157 0.\n",
            "  0.00392157 0.01176471 0.00392157 0.01568627 0.02352941 0.01176471\n",
            "  0.01960784 0.01568627 0.00784314 0.00392157 0.00392157 0.00784314\n",
            "  0.00392157 0.00784314 0.00784314 0.01568627]\n",
            " [0.05098039 0.05882353 0.08235294 0.02745098 0.03137255 0.04313725\n",
            "  0.01960784 0.00784314 0.01960784 0.01568627 0.00392157 0.01568627\n",
            "  0.00392157 0.01176471 0.00784314 0.01568627 0.01568627 0.01568627\n",
            "  0.01960784 0.01176471 0.01176471 0.00784314 0.01960784 0.01568627\n",
            "  0.01176471 0.01568627 0.01176471 0.01960784]\n",
            " [0.05098039 0.05882353 0.08235294 0.02745098 0.03137255 0.04313725\n",
            "  0.01960784 0.00784314 0.01960784 0.01568627 0.00392157 0.01568627\n",
            "  0.00392157 0.01176471 0.00784314 0.01568627 0.01176471 0.01568627\n",
            "  0.02352941 0.01176471 0.01176471 0.00784314 0.01960784 0.01568627\n",
            "  0.01176471 0.01568627 0.01176471 0.01960784]\n",
            " [0.05882353 0.07058824 0.06666667 0.02352941 0.02745098 0.03921569\n",
            "  0.00784314 0.         0.00392157 0.         0.         0.00392157\n",
            "  0.         0.         0.         0.         0.02745098 0.00392157\n",
            "  0.01568627 0.         0.00392157 0.         0.         0.\n",
            "  0.00392157 0.01568627 0.         0.00392157]\n",
            " [0.06666667 0.05098039 0.07058824 0.02352941 0.02352941 0.02745098\n",
            "  0.00784314 0.00392157 0.00784314 0.00784314 0.         0.00784314\n",
            "  0.         0.00784314 0.00392157 0.01568627 0.03137255 0.\n",
            "  0.01176471 0.02352941 0.00392157 0.00392157 0.01176471 0.01176471\n",
            "  0.00392157 0.00784314 0.00392157 0.01176471]\n",
            " [0.0627451  0.07058824 0.06666667 0.02745098 0.02745098 0.03137255\n",
            "  0.01176471 0.00784314 0.         0.         0.         0.00784314\n",
            "  0.22745098 0.57647059 0.81568627 0.98823529 0.98431373 0.44705882\n",
            "  0.35686275 0.58431373 0.22745098 0.00392157 0.00392157 0.00392157\n",
            "  0.00784314 0.         0.         0.01568627]\n",
            " [0.05490196 0.0745098  0.06666667 0.01960784 0.02745098 0.03529412\n",
            "  0.00392157 0.00784314 0.         0.00784314 0.         0.34901961\n",
            "  0.90980392 0.98823529 1.         0.74901961 0.84313725 0.98431373\n",
            "  0.98823529 0.98823529 0.6627451  0.         0.01568627 0.00784314\n",
            "  0.00392157 0.01960784 0.         0.00784314]\n",
            " [0.06666667 0.05098039 0.07058824 0.02352941 0.02352941 0.02745098\n",
            "  0.00784314 0.         0.01176471 0.01568627 0.23529412 0.9372549\n",
            "  0.98431373 0.74509804 0.26666667 0.03921569 0.05490196 0.71372549\n",
            "  0.96862745 1.         0.45490196 0.00392157 0.         0.\n",
            "  0.         0.         0.00392157 0.01176471]\n",
            " [0.05098039 0.05882353 0.07843137 0.02745098 0.02745098 0.04313725\n",
            "  0.01960784 0.00784314 0.01176471 0.38039216 0.96862745 0.99607843\n",
            "  0.70196078 0.05882353 0.00784314 0.01568627 0.37254902 0.98039216\n",
            "  0.98823529 0.86666667 0.08627451 0.00784314 0.01568627 0.01568627\n",
            "  0.01176471 0.01568627 0.01176471 0.01568627]\n",
            " [0.07058824 0.06666667 0.0627451  0.02352941 0.02352941 0.03529412\n",
            "  0.00784314 0.00784314 0.50588235 0.99607843 0.97254902 0.57647059\n",
            "  0.05882353 0.00784314 0.         0.00392157 0.86666667 1.\n",
            "  0.98039216 0.31764706 0.00392157 0.00392157 0.00784314 0.00784314\n",
            "  0.         0.00784314 0.00392157 0.00784314]\n",
            " [0.05882353 0.05882353 0.0627451  0.02352941 0.02745098 0.03137255\n",
            "  0.01568627 0.48235294 0.98431373 0.97647059 0.70588235 0.05490196\n",
            "  0.         0.01176471 0.03137255 0.29803922 0.96470588 0.98431373\n",
            "  0.48627451 0.02745098 0.00784314 0.00392157 0.         0.01176471\n",
            "  0.00392157 0.00392157 0.00784314 0.01176471]\n",
            " [0.0627451  0.0745098  0.07058824 0.02352941 0.02352941 0.03921569\n",
            "  0.05882353 0.91764706 1.         0.67843137 0.         0.01176471\n",
            "  0.         0.1372549  0.8        0.98039216 0.98823529 0.64313725\n",
            "  0.05882353 0.00784314 0.00392157 0.         0.00392157 0.00392157\n",
            "  0.00392157 0.00784314 0.00392157 0.00784314]\n",
            " [0.0627451  0.05490196 0.0627451  0.02352941 0.02745098 0.03137255\n",
            "  0.09411765 1.         0.99607843 0.11372549 0.07058824 0.44705882\n",
            "  0.76470588 0.90980392 0.98823529 0.98431373 0.97647059 0.29411765\n",
            "  0.00392157 0.01960784 0.00784314 0.00784314 0.         0.01176471\n",
            "  0.00784314 0.00392157 0.00784314 0.01568627]\n",
            " [0.07058824 0.04705882 0.05098039 0.01960784 0.02352941 0.02745098\n",
            "  0.0627451  0.92156863 1.         0.98431373 0.97647059 0.99215686\n",
            "  0.97254902 0.8745098  0.90196078 0.99215686 0.8745098  0.\n",
            "  0.01176471 0.01568627 0.00392157 0.00784314 0.00784314 0.00784314\n",
            "  0.00392157 0.01176471 0.00784314 0.00392157]\n",
            " [0.0627451  0.05882353 0.07843137 0.02745098 0.02745098 0.03921569\n",
            "  0.01568627 0.21960784 0.9372549  0.98431373 0.85098039 0.57647059\n",
            "  0.17647059 0.09803922 0.75686275 0.97647059 0.55686275 0.\n",
            "  0.01960784 0.01176471 0.01176471 0.         0.01960784 0.01568627\n",
            "  0.01176471 0.01176471 0.01176471 0.01960784]\n",
            " [0.06666667 0.05882353 0.06666667 0.02745098 0.02352941 0.03529412\n",
            "  0.01568627 0.00392157 0.00392157 0.00784314 0.00392157 0.00392157\n",
            "  0.00784314 0.24313725 1.         0.99215686 0.38039216 0.00784314\n",
            "  0.01960784 0.00784314 0.00392157 0.00392157 0.01568627 0.01568627\n",
            "  0.01176471 0.01176471 0.00392157 0.00784314]\n",
            " [0.05882353 0.05098039 0.07058824 0.02352941 0.02745098 0.02745098\n",
            "  0.00784314 0.00392157 0.00784314 0.00784314 0.         0.00392157\n",
            "  0.         0.28235294 0.99607843 0.98431373 0.0745098  0.00784314\n",
            "  0.01568627 0.01568627 0.00392157 0.00392157 0.00392157 0.00784314\n",
            "  0.00392157 0.01568627 0.00392157 0.01176471]\n",
            " [0.06666667 0.05490196 0.07058824 0.02352941 0.02352941 0.03137255\n",
            "  0.00784314 0.         0.00784314 0.00784314 0.         0.\n",
            "  0.00784314 0.01176471 0.98823529 0.98823529 0.08627451 0.01176471\n",
            "  0.01568627 0.01960784 0.00392157 0.         0.01176471 0.01176471\n",
            "  0.00392157 0.01176471 0.00392157 0.01176471]\n",
            " [0.0627451  0.0745098  0.07058824 0.02352941 0.02352941 0.03921569\n",
            "  0.00784314 0.         0.         0.00392157 0.         0.00784314\n",
            "  0.         0.27058824 1.         0.98823529 0.09411765 0.00392157\n",
            "  0.01568627 0.00392157 0.00392157 0.         0.00392157 0.00392157\n",
            "  0.00392157 0.00784314 0.00392157 0.00784314]\n",
            " [0.05882353 0.06666667 0.07058824 0.01960784 0.01960784 0.03137255\n",
            "  0.00784314 0.00392157 0.01176471 0.00784314 0.         0.\n",
            "  0.00784314 0.41960784 0.98823529 0.98823529 0.08627451 0.01176471\n",
            "  0.00392157 0.03137255 0.00392157 0.00392157 0.02352941 0.02352941\n",
            "  0.00392157 0.02745098 0.00784314 0.00392157]\n",
            " [0.0627451  0.04705882 0.05098039 0.01960784 0.01960784 0.03137255\n",
            "  0.00784314 0.00392157 0.00784314 0.00392157 0.         0.\n",
            "  0.00784314 0.18431373 0.98823529 0.98823529 0.07058824 0.01176471\n",
            "  0.01176471 0.01568627 0.00392157 0.00392157 0.01176471 0.00784314\n",
            "  0.00392157 0.01176471 0.00392157 0.00392157]\n",
            " [0.0627451  0.04313725 0.06666667 0.01960784 0.01960784 0.03137255\n",
            "  0.00392157 0.00392157 0.00392157 0.00392157 0.         0.00392157\n",
            "  0.         0.00392157 0.85490196 0.99607843 0.20392157 0.00392157\n",
            "  0.00784314 0.00392157 0.00392157 0.00392157 0.00784314 0.00392157\n",
            "  0.00392157 0.00392157 0.00392157 0.00784314]\n",
            " [0.05882353 0.05490196 0.07058824 0.02352941 0.02352941 0.03137255\n",
            "  0.00784314 0.00784314 0.00784314 0.00784314 0.         0.00392157\n",
            "  0.00392157 0.01176471 0.36078431 0.98823529 0.73333333 0.16078431\n",
            "  0.02745098 0.00784314 0.00392157 0.00784314 0.01176471 0.01176471\n",
            "  0.00392157 0.01176471 0.00392157 0.01176471]\n",
            " [0.06666667 0.04313725 0.06666667 0.02352941 0.02352941 0.02745098\n",
            "  0.00392157 0.00392157 0.00392157 0.00392157 0.         0.00392157\n",
            "  0.         0.         0.04705882 0.70980392 0.98823529 0.65882353\n",
            "  0.02352941 0.         0.00392157 0.00392157 0.01176471 0.01176471\n",
            "  0.00392157 0.02745098 0.         0.00784314]\n",
            " [0.05098039 0.05882353 0.07843137 0.02745098 0.03137255 0.03529412\n",
            "  0.01568627 0.01176471 0.01568627 0.01568627 0.00392157 0.00784314\n",
            "  0.00392157 0.01176471 0.01176471 0.07058824 0.58823529 0.99215686\n",
            "  0.19607843 0.00392157 0.00784314 0.01176471 0.01960784 0.01960784\n",
            "  0.01176471 0.01960784 0.01176471 0.01568627]\n",
            " [0.05882353 0.04705882 0.05098039 0.02352941 0.02745098 0.03137255\n",
            "  0.01176471 0.00784314 0.01568627 0.01176471 0.         0.00784314\n",
            "  0.01176471 0.00392157 0.00784314 0.00392157 0.00392157 0.00784314\n",
            "  0.00784314 0.00784314 0.00392157 0.00784314 0.00392157 0.00392157\n",
            "  0.00392157 0.00392157 0.01176471 0.00392157]]\n",
            "[[[0.05490196 0.05098039 0.05490196 0.02352941 0.02745098 0.03137255\n",
            "   0.01176471 0.00392157 0.00784314 0.01960784 0.         0.00392157\n",
            "   0.00392157 0.00784314 0.00392157 0.00784314 0.01960784 0.00784314\n",
            "   0.01568627 0.01568627 0.00392157 0.00392157 0.00392157 0.00784314\n",
            "   0.00784314 0.00784314 0.00392157 0.01176471]\n",
            "  [0.0627451  0.06666667 0.0745098  0.02352941 0.02745098 0.03921569\n",
            "   0.01176471 0.01176471 0.01176471 0.02352941 0.00392157 0.00784314\n",
            "   0.01176471 0.00392157 0.01176471 0.00392157 0.03137255 0.01176471\n",
            "   0.01960784 0.02745098 0.00784314 0.01176471 0.01960784 0.02352941\n",
            "   0.00784314 0.02745098 0.01568627 0.01568627]\n",
            "  [0.07058824 0.0627451  0.05882353 0.02745098 0.02352941 0.03137255\n",
            "   0.01568627 0.00392157 0.01568627 0.02352941 0.00392157 0.\n",
            "   0.00392157 0.01176471 0.00392157 0.01568627 0.02352941 0.01176471\n",
            "   0.01960784 0.01568627 0.00784314 0.00392157 0.00392157 0.00784314\n",
            "   0.00392157 0.00784314 0.00784314 0.01568627]\n",
            "  [0.05098039 0.05882353 0.08235294 0.02745098 0.03137255 0.04313725\n",
            "   0.01960784 0.00784314 0.01960784 0.01568627 0.00392157 0.01568627\n",
            "   0.00392157 0.01176471 0.00784314 0.01568627 0.01568627 0.01568627\n",
            "   0.01960784 0.01176471 0.01176471 0.00784314 0.01960784 0.01568627\n",
            "   0.01176471 0.01568627 0.01176471 0.01960784]\n",
            "  [0.05098039 0.05882353 0.08235294 0.02745098 0.03137255 0.04313725\n",
            "   0.01960784 0.00784314 0.01960784 0.01568627 0.00392157 0.01568627\n",
            "   0.00392157 0.01176471 0.00784314 0.01568627 0.01176471 0.01568627\n",
            "   0.02352941 0.01176471 0.01176471 0.00784314 0.01960784 0.01568627\n",
            "   0.01176471 0.01568627 0.01176471 0.01960784]\n",
            "  [0.05882353 0.07058824 0.06666667 0.02352941 0.02745098 0.03921569\n",
            "   0.00784314 0.         0.00392157 0.         0.         0.00392157\n",
            "   0.         0.         0.         0.         0.02745098 0.00392157\n",
            "   0.01568627 0.         0.00392157 0.         0.         0.\n",
            "   0.00392157 0.01568627 0.         0.00392157]\n",
            "  [0.06666667 0.05098039 0.07058824 0.02352941 0.02352941 0.02745098\n",
            "   0.00784314 0.00392157 0.00784314 0.00784314 0.         0.00784314\n",
            "   0.         0.00784314 0.00392157 0.01568627 0.03137255 0.\n",
            "   0.01176471 0.02352941 0.00392157 0.00392157 0.01176471 0.01176471\n",
            "   0.00392157 0.00784314 0.00392157 0.01176471]\n",
            "  [0.0627451  0.07058824 0.06666667 0.02745098 0.02745098 0.03137255\n",
            "   0.01176471 0.00784314 0.         0.         0.         0.00784314\n",
            "   0.22745098 0.57647059 0.81568627 0.98823529 0.98431373 0.44705882\n",
            "   0.35686275 0.58431373 0.22745098 0.00392157 0.00392157 0.00392157\n",
            "   0.00784314 0.         0.         0.01568627]\n",
            "  [0.05490196 0.0745098  0.06666667 0.01960784 0.02745098 0.03529412\n",
            "   0.00392157 0.00784314 0.         0.00784314 0.         0.34901961\n",
            "   0.90980392 0.98823529 1.         0.74901961 0.84313725 0.98431373\n",
            "   0.98823529 0.98823529 0.6627451  0.         0.01568627 0.00784314\n",
            "   0.00392157 0.01960784 0.         0.00784314]\n",
            "  [0.06666667 0.05098039 0.07058824 0.02352941 0.02352941 0.02745098\n",
            "   0.00784314 0.         0.01176471 0.01568627 0.23529412 0.9372549\n",
            "   0.98431373 0.74509804 0.26666667 0.03921569 0.05490196 0.71372549\n",
            "   0.96862745 1.         0.45490196 0.00392157 0.         0.\n",
            "   0.         0.         0.00392157 0.01176471]\n",
            "  [0.05098039 0.05882353 0.07843137 0.02745098 0.02745098 0.04313725\n",
            "   0.01960784 0.00784314 0.01176471 0.38039216 0.96862745 0.99607843\n",
            "   0.70196078 0.05882353 0.00784314 0.01568627 0.37254902 0.98039216\n",
            "   0.98823529 0.86666667 0.08627451 0.00784314 0.01568627 0.01568627\n",
            "   0.01176471 0.01568627 0.01176471 0.01568627]\n",
            "  [0.07058824 0.06666667 0.0627451  0.02352941 0.02352941 0.03529412\n",
            "   0.00784314 0.00784314 0.50588235 0.99607843 0.97254902 0.57647059\n",
            "   0.05882353 0.00784314 0.         0.00392157 0.86666667 1.\n",
            "   0.98039216 0.31764706 0.00392157 0.00392157 0.00784314 0.00784314\n",
            "   0.         0.00784314 0.00392157 0.00784314]\n",
            "  [0.05882353 0.05882353 0.0627451  0.02352941 0.02745098 0.03137255\n",
            "   0.01568627 0.48235294 0.98431373 0.97647059 0.70588235 0.05490196\n",
            "   0.         0.01176471 0.03137255 0.29803922 0.96470588 0.98431373\n",
            "   0.48627451 0.02745098 0.00784314 0.00392157 0.         0.01176471\n",
            "   0.00392157 0.00392157 0.00784314 0.01176471]\n",
            "  [0.0627451  0.0745098  0.07058824 0.02352941 0.02352941 0.03921569\n",
            "   0.05882353 0.91764706 1.         0.67843137 0.         0.01176471\n",
            "   0.         0.1372549  0.8        0.98039216 0.98823529 0.64313725\n",
            "   0.05882353 0.00784314 0.00392157 0.         0.00392157 0.00392157\n",
            "   0.00392157 0.00784314 0.00392157 0.00784314]\n",
            "  [0.0627451  0.05490196 0.0627451  0.02352941 0.02745098 0.03137255\n",
            "   0.09411765 1.         0.99607843 0.11372549 0.07058824 0.44705882\n",
            "   0.76470588 0.90980392 0.98823529 0.98431373 0.97647059 0.29411765\n",
            "   0.00392157 0.01960784 0.00784314 0.00784314 0.         0.01176471\n",
            "   0.00784314 0.00392157 0.00784314 0.01568627]\n",
            "  [0.07058824 0.04705882 0.05098039 0.01960784 0.02352941 0.02745098\n",
            "   0.0627451  0.92156863 1.         0.98431373 0.97647059 0.99215686\n",
            "   0.97254902 0.8745098  0.90196078 0.99215686 0.8745098  0.\n",
            "   0.01176471 0.01568627 0.00392157 0.00784314 0.00784314 0.00784314\n",
            "   0.00392157 0.01176471 0.00784314 0.00392157]\n",
            "  [0.0627451  0.05882353 0.07843137 0.02745098 0.02745098 0.03921569\n",
            "   0.01568627 0.21960784 0.9372549  0.98431373 0.85098039 0.57647059\n",
            "   0.17647059 0.09803922 0.75686275 0.97647059 0.55686275 0.\n",
            "   0.01960784 0.01176471 0.01176471 0.         0.01960784 0.01568627\n",
            "   0.01176471 0.01176471 0.01176471 0.01960784]\n",
            "  [0.06666667 0.05882353 0.06666667 0.02745098 0.02352941 0.03529412\n",
            "   0.01568627 0.00392157 0.00392157 0.00784314 0.00392157 0.00392157\n",
            "   0.00784314 0.24313725 1.         0.99215686 0.38039216 0.00784314\n",
            "   0.01960784 0.00784314 0.00392157 0.00392157 0.01568627 0.01568627\n",
            "   0.01176471 0.01176471 0.00392157 0.00784314]\n",
            "  [0.05882353 0.05098039 0.07058824 0.02352941 0.02745098 0.02745098\n",
            "   0.00784314 0.00392157 0.00784314 0.00784314 0.         0.00392157\n",
            "   0.         0.28235294 0.99607843 0.98431373 0.0745098  0.00784314\n",
            "   0.01568627 0.01568627 0.00392157 0.00392157 0.00392157 0.00784314\n",
            "   0.00392157 0.01568627 0.00392157 0.01176471]\n",
            "  [0.06666667 0.05490196 0.07058824 0.02352941 0.02352941 0.03137255\n",
            "   0.00784314 0.         0.00784314 0.00784314 0.         0.\n",
            "   0.00784314 0.01176471 0.98823529 0.98823529 0.08627451 0.01176471\n",
            "   0.01568627 0.01960784 0.00392157 0.         0.01176471 0.01176471\n",
            "   0.00392157 0.01176471 0.00392157 0.01176471]\n",
            "  [0.0627451  0.0745098  0.07058824 0.02352941 0.02352941 0.03921569\n",
            "   0.00784314 0.         0.         0.00392157 0.         0.00784314\n",
            "   0.         0.27058824 1.         0.98823529 0.09411765 0.00392157\n",
            "   0.01568627 0.00392157 0.00392157 0.         0.00392157 0.00392157\n",
            "   0.00392157 0.00784314 0.00392157 0.00784314]\n",
            "  [0.05882353 0.06666667 0.07058824 0.01960784 0.01960784 0.03137255\n",
            "   0.00784314 0.00392157 0.01176471 0.00784314 0.         0.\n",
            "   0.00784314 0.41960784 0.98823529 0.98823529 0.08627451 0.01176471\n",
            "   0.00392157 0.03137255 0.00392157 0.00392157 0.02352941 0.02352941\n",
            "   0.00392157 0.02745098 0.00784314 0.00392157]\n",
            "  [0.0627451  0.04705882 0.05098039 0.01960784 0.01960784 0.03137255\n",
            "   0.00784314 0.00392157 0.00784314 0.00392157 0.         0.\n",
            "   0.00784314 0.18431373 0.98823529 0.98823529 0.07058824 0.01176471\n",
            "   0.01176471 0.01568627 0.00392157 0.00392157 0.01176471 0.00784314\n",
            "   0.00392157 0.01176471 0.00392157 0.00392157]\n",
            "  [0.0627451  0.04313725 0.06666667 0.01960784 0.01960784 0.03137255\n",
            "   0.00392157 0.00392157 0.00392157 0.00392157 0.         0.00392157\n",
            "   0.         0.00392157 0.85490196 0.99607843 0.20392157 0.00392157\n",
            "   0.00784314 0.00392157 0.00392157 0.00392157 0.00784314 0.00392157\n",
            "   0.00392157 0.00392157 0.00392157 0.00784314]\n",
            "  [0.05882353 0.05490196 0.07058824 0.02352941 0.02352941 0.03137255\n",
            "   0.00784314 0.00784314 0.00784314 0.00784314 0.         0.00392157\n",
            "   0.00392157 0.01176471 0.36078431 0.98823529 0.73333333 0.16078431\n",
            "   0.02745098 0.00784314 0.00392157 0.00784314 0.01176471 0.01176471\n",
            "   0.00392157 0.01176471 0.00392157 0.01176471]\n",
            "  [0.06666667 0.04313725 0.06666667 0.02352941 0.02352941 0.02745098\n",
            "   0.00392157 0.00392157 0.00392157 0.00392157 0.         0.00392157\n",
            "   0.         0.         0.04705882 0.70980392 0.98823529 0.65882353\n",
            "   0.02352941 0.         0.00392157 0.00392157 0.01176471 0.01176471\n",
            "   0.00392157 0.02745098 0.         0.00784314]\n",
            "  [0.05098039 0.05882353 0.07843137 0.02745098 0.03137255 0.03529412\n",
            "   0.01568627 0.01176471 0.01568627 0.01568627 0.00392157 0.00784314\n",
            "   0.00392157 0.01176471 0.01176471 0.07058824 0.58823529 0.99215686\n",
            "   0.19607843 0.00392157 0.00784314 0.01176471 0.01960784 0.01960784\n",
            "   0.01176471 0.01960784 0.01176471 0.01568627]\n",
            "  [0.05882353 0.04705882 0.05098039 0.02352941 0.02745098 0.03137255\n",
            "   0.01176471 0.00784314 0.01568627 0.01176471 0.         0.00784314\n",
            "   0.01176471 0.00392157 0.00784314 0.00392157 0.00392157 0.00784314\n",
            "   0.00784314 0.00784314 0.00392157 0.00784314 0.00392157 0.00392157\n",
            "   0.00392157 0.00392157 0.01176471 0.00392157]]]\n",
            "1/1 [==============================] - 0s 21ms/step\n",
            "The Handwritten Digit is recognised as 9\n"
          ]
        }
      ]
    },
    {
      "cell_type": "code",
      "source": [
        "# Save the model\n",
        "model.save('mnist_digit_classification_model.h5')"
      ],
      "metadata": {
        "id": "ox3K87KT32iv",
        "colab": {
          "base_uri": "https://localhost:8080/"
        },
        "outputId": "89b525bc-4ace-4bb4-ea03-cc18d60fc99b"
      },
      "execution_count": null,
      "outputs": [
        {
          "output_type": "stream",
          "name": "stderr",
          "text": [
            "/usr/local/lib/python3.10/dist-packages/keras/src/engine/training.py:3103: UserWarning: You are saving your model as an HDF5 file via `model.save()`. This file format is considered legacy. We recommend using instead the native Keras format, e.g. `model.save('my_model.keras')`.\n",
            "  saving_api.save_model(\n"
          ]
        }
      ]
    },
    {
      "cell_type": "code",
      "source": [
        "from PIL import Image\n",
        "import numpy as np\n",
        "import matplotlib.pyplot as plt\n",
        "\n",
        "def preprocess_image(image_path):\n",
        "    # Load the image\n",
        "    img = Image.open(image_path)\n",
        "\n",
        "    # Convert to grayscale\n",
        "    img = img.convert('L')\n",
        "\n",
        "    # Resize to 28x28\n",
        "    img = img.resize((28, 28), Image.ANTIALIAS)\n",
        "\n",
        "    # Convert to numpy array\n",
        "    img_array = np.array(img)\n",
        "\n",
        "    # Normalize pixel values to [0, 1]\n",
        "    img_array = img_array / 255.0\n",
        "\n",
        "    # Invert colors (if necessary)\n",
        "    img_array = 1 - img_array\n",
        "\n",
        "    return img_array\n",
        "\n",
        "# Example usage\n",
        "image_path = '/content/download (6).jpeg'\n",
        "processed_img = preprocess_image(image_path)\n",
        "\n",
        "# Display the processed image\n",
        "plt.imshow(processed_img, cmap='gray')\n",
        "plt.show()\n",
        "\n",
        "image_reshaped = np.reshape(processed_img, [1,28,28])\n",
        "\n",
        "input_prediction = model.predict(image_reshaped)\n",
        "\n",
        "input_pred_label = np.argmax(input_prediction)\n",
        "\n",
        "print(\"The Handwritten Digit is recognised as\" , input_pred_label)\n"
      ],
      "metadata": {
        "id": "U85CouiZ2X-7",
        "colab": {
          "base_uri": "https://localhost:8080/",
          "height": 1000
        },
        "outputId": "7c3f5dde-820b-4acf-ae45-8ec825d30933"
      },
      "execution_count": null,
      "outputs": [
        {
          "output_type": "stream",
          "name": "stdout",
          "text": [
            "<PIL.Image.Image image mode=L size=204x192 at 0x7A5C32A2F610>\n",
            "<PIL.Image.Image image mode=L size=28x28 at 0x7A5C32A2F850>\n",
            "[[255 255 255 255 255 255 255 255 255 255 255 255 255 255 255 255 255 255\n",
            "  255 255 255 255 255 255 255 255 255 254]\n",
            " [255 255 255 255 255 255 255 255 255 255 255 255 254 253 253 253 254 255\n",
            "  255 255 255 255 255 255 255 255 255 255]\n",
            " [255 255 255 255 255 255 255 255 255 255 255 253 255 255 255 255 255 253\n",
            "  255 255 255 255 255 255 255 255 255 255]\n",
            " [255 255 255 255 255 255 255 255 255 254 255 255 244 211 197 208 239 255\n",
            "  255 254 255 255 255 255 255 255 255 255]\n",
            " [255 255 255 255 255 255 255 255 254 255 249 162  97  96  99  96 100 162\n",
            "  245 254 255 255 255 255 255 255 255 255]\n",
            " [255 255 255 255 255 255 255 254 254 244 137 130 165 172 169 169 163 141\n",
            "  183 253 254 255 255 255 255 255 255 255]\n",
            " [255 255 255 255 255 255 255 254 253 142 142 187 166 164 169 167 175 182\n",
            "  167 217 255 254 255 255 255 255 255 255]\n",
            " [255 255 255 255 255 255 253 255 207 144 205 192 187 220 239 205 152 154\n",
            "  145 169 253 254 255 255 255 255 255 255]\n",
            " [255 255 255 255 255 255 254 255 149 173 192 205 246 255 255 255 196 190\n",
            "  187 196 245 255 255 255 255 255 255 255]\n",
            " [255 255 255 255 255 254 255 238 128 161 143 175 252 252 255 255 232 233\n",
            "  242 246 252 255 255 255 255 255 255 255]\n",
            " [255 255 255 255 255 254 255 214 175 226 207 219 255 255 248 248 255 255\n",
            "  255 255 255 255 255 255 255 255 255 255]\n",
            " [255 255 255 255 255 254 255 206 211 250 238 249 222 166 163 170 186 228\n",
            "  255 254 255 255 255 255 255 255 255 255]\n",
            " [255 255 255 255 255 253 255 194 206 239 238 224 157 211 238 242 230 212\n",
            "  230 255 254 255 255 255 255 255 255 255]\n",
            " [255 255 255 255 255 253 255 168 131 159 161 154 160 181 188 195 202 207\n",
            "  197 234 255 254 255 255 255 255 255 255]\n",
            " [255 255 255 255 255 253 255 178 157 173 169 171 186 230 242 212 172 171\n",
            "  171 191 251 254 255 255 255 255 255 255]\n",
            " [255 255 255 255 255 253 255 192 196 214 209 211 250 255 255 255 208 200\n",
            "  207 204 244 255 255 255 255 255 255 255]\n",
            " [255 255 255 255 255 253 255 186 141 158 145 171 254 253 252 254 208 133\n",
            "  158 148 209 255 253 255 255 255 255 255]\n",
            " [255 255 255 255 255 254 255 208 193 213 200 216 255 254 254 255 217 138\n",
            "  167 153 205 255 254 255 255 255 255 255]\n",
            " [255 255 255 255 255 254 255 218 161 187 169 192 255 254 254 255 216 142\n",
            "  175 158 207 255 253 255 255 255 255 255]\n",
            " [255 255 255 255 255 254 255 239 125 133 121 127 246 254 248 255 190  85\n",
            "  121 101 197 255 253 255 255 255 255 255]\n",
            " [255 255 255 255 255 255 253 255 149 108 118 103 168 255 255 254 107  90\n",
            "  113 103 225 255 254 255 255 255 255 255]\n",
            " [255 255 255 255 255 255 253 255 213  97 111 110 101 135 158  99  67 105\n",
            "   87 137 254 254 255 255 255 255 255 255]\n",
            " [255 255 255 255 255 255 255 253 255 169  99 110 108  91  76  81  99  85\n",
            "   92 223 254 253 255 255 255 255 255 255]\n",
            " [255 255 255 255 255 255 255 254 253 253 172 103  95  96  96  89  78  99\n",
            "  210 255 253 255 255 255 255 255 255 255]\n",
            " [255 255 255 255 255 255 255 255 255 254 255 217 160 130 121 131 172 239\n",
            "  255 253 255 255 255 255 255 255 255 255]\n",
            " [255 255 255 255 255 255 255 255 255 255 254 255 255 255 253 255 255 255\n",
            "  253 255 255 255 255 255 255 255 255 255]\n",
            " [255 255 255 255 255 255 255 255 255 255 255 254 252 254 255 253 253 254\n",
            "  255 255 255 255 255 255 255 255 255 255]\n",
            " [255 255 255 255 255 255 255 255 255 255 255 255 255 255 255 255 255 255\n",
            "  255 255 255 255 255 255 255 255 255 255]]\n",
            "[[1.         1.         1.         1.         1.         1.\n",
            "  1.         1.         1.         1.         1.         1.\n",
            "  1.         1.         1.         1.         1.         1.\n",
            "  1.         1.         1.         1.         1.         1.\n",
            "  1.         1.         1.         0.99607843]\n",
            " [1.         1.         1.         1.         1.         1.\n",
            "  1.         1.         1.         1.         1.         1.\n",
            "  0.99607843 0.99215686 0.99215686 0.99215686 0.99607843 1.\n",
            "  1.         1.         1.         1.         1.         1.\n",
            "  1.         1.         1.         1.        ]\n",
            " [1.         1.         1.         1.         1.         1.\n",
            "  1.         1.         1.         1.         1.         0.99215686\n",
            "  1.         1.         1.         1.         1.         0.99215686\n",
            "  1.         1.         1.         1.         1.         1.\n",
            "  1.         1.         1.         1.        ]\n",
            " [1.         1.         1.         1.         1.         1.\n",
            "  1.         1.         1.         0.99607843 1.         1.\n",
            "  0.95686275 0.82745098 0.77254902 0.81568627 0.9372549  1.\n",
            "  1.         0.99607843 1.         1.         1.         1.\n",
            "  1.         1.         1.         1.        ]\n",
            " [1.         1.         1.         1.         1.         1.\n",
            "  1.         1.         0.99607843 1.         0.97647059 0.63529412\n",
            "  0.38039216 0.37647059 0.38823529 0.37647059 0.39215686 0.63529412\n",
            "  0.96078431 0.99607843 1.         1.         1.         1.\n",
            "  1.         1.         1.         1.        ]\n",
            " [1.         1.         1.         1.         1.         1.\n",
            "  1.         0.99607843 0.99607843 0.95686275 0.5372549  0.50980392\n",
            "  0.64705882 0.6745098  0.6627451  0.6627451  0.63921569 0.55294118\n",
            "  0.71764706 0.99215686 0.99607843 1.         1.         1.\n",
            "  1.         1.         1.         1.        ]\n",
            " [1.         1.         1.         1.         1.         1.\n",
            "  1.         0.99607843 0.99215686 0.55686275 0.55686275 0.73333333\n",
            "  0.65098039 0.64313725 0.6627451  0.65490196 0.68627451 0.71372549\n",
            "  0.65490196 0.85098039 1.         0.99607843 1.         1.\n",
            "  1.         1.         1.         1.        ]\n",
            " [1.         1.         1.         1.         1.         1.\n",
            "  0.99215686 1.         0.81176471 0.56470588 0.80392157 0.75294118\n",
            "  0.73333333 0.8627451  0.9372549  0.80392157 0.59607843 0.60392157\n",
            "  0.56862745 0.6627451  0.99215686 0.99607843 1.         1.\n",
            "  1.         1.         1.         1.        ]\n",
            " [1.         1.         1.         1.         1.         1.\n",
            "  0.99607843 1.         0.58431373 0.67843137 0.75294118 0.80392157\n",
            "  0.96470588 1.         1.         1.         0.76862745 0.74509804\n",
            "  0.73333333 0.76862745 0.96078431 1.         1.         1.\n",
            "  1.         1.         1.         1.        ]\n",
            " [1.         1.         1.         1.         1.         0.99607843\n",
            "  1.         0.93333333 0.50196078 0.63137255 0.56078431 0.68627451\n",
            "  0.98823529 0.98823529 1.         1.         0.90980392 0.91372549\n",
            "  0.94901961 0.96470588 0.98823529 1.         1.         1.\n",
            "  1.         1.         1.         1.        ]\n",
            " [1.         1.         1.         1.         1.         0.99607843\n",
            "  1.         0.83921569 0.68627451 0.88627451 0.81176471 0.85882353\n",
            "  1.         1.         0.97254902 0.97254902 1.         1.\n",
            "  1.         1.         1.         1.         1.         1.\n",
            "  1.         1.         1.         1.        ]\n",
            " [1.         1.         1.         1.         1.         0.99607843\n",
            "  1.         0.80784314 0.82745098 0.98039216 0.93333333 0.97647059\n",
            "  0.87058824 0.65098039 0.63921569 0.66666667 0.72941176 0.89411765\n",
            "  1.         0.99607843 1.         1.         1.         1.\n",
            "  1.         1.         1.         1.        ]\n",
            " [1.         1.         1.         1.         1.         0.99215686\n",
            "  1.         0.76078431 0.80784314 0.9372549  0.93333333 0.87843137\n",
            "  0.61568627 0.82745098 0.93333333 0.94901961 0.90196078 0.83137255\n",
            "  0.90196078 1.         0.99607843 1.         1.         1.\n",
            "  1.         1.         1.         1.        ]\n",
            " [1.         1.         1.         1.         1.         0.99215686\n",
            "  1.         0.65882353 0.51372549 0.62352941 0.63137255 0.60392157\n",
            "  0.62745098 0.70980392 0.7372549  0.76470588 0.79215686 0.81176471\n",
            "  0.77254902 0.91764706 1.         0.99607843 1.         1.\n",
            "  1.         1.         1.         1.        ]\n",
            " [1.         1.         1.         1.         1.         0.99215686\n",
            "  1.         0.69803922 0.61568627 0.67843137 0.6627451  0.67058824\n",
            "  0.72941176 0.90196078 0.94901961 0.83137255 0.6745098  0.67058824\n",
            "  0.67058824 0.74901961 0.98431373 0.99607843 1.         1.\n",
            "  1.         1.         1.         1.        ]\n",
            " [1.         1.         1.         1.         1.         0.99215686\n",
            "  1.         0.75294118 0.76862745 0.83921569 0.81960784 0.82745098\n",
            "  0.98039216 1.         1.         1.         0.81568627 0.78431373\n",
            "  0.81176471 0.8        0.95686275 1.         1.         1.\n",
            "  1.         1.         1.         1.        ]\n",
            " [1.         1.         1.         1.         1.         0.99215686\n",
            "  1.         0.72941176 0.55294118 0.61960784 0.56862745 0.67058824\n",
            "  0.99607843 0.99215686 0.98823529 0.99607843 0.81568627 0.52156863\n",
            "  0.61960784 0.58039216 0.81960784 1.         0.99215686 1.\n",
            "  1.         1.         1.         1.        ]\n",
            " [1.         1.         1.         1.         1.         0.99607843\n",
            "  1.         0.81568627 0.75686275 0.83529412 0.78431373 0.84705882\n",
            "  1.         0.99607843 0.99607843 1.         0.85098039 0.54117647\n",
            "  0.65490196 0.6        0.80392157 1.         0.99607843 1.\n",
            "  1.         1.         1.         1.        ]\n",
            " [1.         1.         1.         1.         1.         0.99607843\n",
            "  1.         0.85490196 0.63137255 0.73333333 0.6627451  0.75294118\n",
            "  1.         0.99607843 0.99607843 1.         0.84705882 0.55686275\n",
            "  0.68627451 0.61960784 0.81176471 1.         0.99215686 1.\n",
            "  1.         1.         1.         1.        ]\n",
            " [1.         1.         1.         1.         1.         0.99607843\n",
            "  1.         0.9372549  0.49019608 0.52156863 0.4745098  0.49803922\n",
            "  0.96470588 0.99607843 0.97254902 1.         0.74509804 0.33333333\n",
            "  0.4745098  0.39607843 0.77254902 1.         0.99215686 1.\n",
            "  1.         1.         1.         1.        ]\n",
            " [1.         1.         1.         1.         1.         1.\n",
            "  0.99215686 1.         0.58431373 0.42352941 0.4627451  0.40392157\n",
            "  0.65882353 1.         1.         0.99607843 0.41960784 0.35294118\n",
            "  0.44313725 0.40392157 0.88235294 1.         0.99607843 1.\n",
            "  1.         1.         1.         1.        ]\n",
            " [1.         1.         1.         1.         1.         1.\n",
            "  0.99215686 1.         0.83529412 0.38039216 0.43529412 0.43137255\n",
            "  0.39607843 0.52941176 0.61960784 0.38823529 0.2627451  0.41176471\n",
            "  0.34117647 0.5372549  0.99607843 0.99607843 1.         1.\n",
            "  1.         1.         1.         1.        ]\n",
            " [1.         1.         1.         1.         1.         1.\n",
            "  1.         0.99215686 1.         0.6627451  0.38823529 0.43137255\n",
            "  0.42352941 0.35686275 0.29803922 0.31764706 0.38823529 0.33333333\n",
            "  0.36078431 0.8745098  0.99607843 0.99215686 1.         1.\n",
            "  1.         1.         1.         1.        ]\n",
            " [1.         1.         1.         1.         1.         1.\n",
            "  1.         0.99607843 0.99215686 0.99215686 0.6745098  0.40392157\n",
            "  0.37254902 0.37647059 0.37647059 0.34901961 0.30588235 0.38823529\n",
            "  0.82352941 1.         0.99215686 1.         1.         1.\n",
            "  1.         1.         1.         1.        ]\n",
            " [1.         1.         1.         1.         1.         1.\n",
            "  1.         1.         1.         0.99607843 1.         0.85098039\n",
            "  0.62745098 0.50980392 0.4745098  0.51372549 0.6745098  0.9372549\n",
            "  1.         0.99215686 1.         1.         1.         1.\n",
            "  1.         1.         1.         1.        ]\n",
            " [1.         1.         1.         1.         1.         1.\n",
            "  1.         1.         1.         1.         0.99607843 1.\n",
            "  1.         1.         0.99215686 1.         1.         1.\n",
            "  0.99215686 1.         1.         1.         1.         1.\n",
            "  1.         1.         1.         1.        ]\n",
            " [1.         1.         1.         1.         1.         1.\n",
            "  1.         1.         1.         1.         1.         0.99607843\n",
            "  0.98823529 0.99607843 1.         0.99215686 0.99215686 0.99607843\n",
            "  1.         1.         1.         1.         1.         1.\n",
            "  1.         1.         1.         1.        ]\n",
            " [1.         1.         1.         1.         1.         1.\n",
            "  1.         1.         1.         1.         1.         1.\n",
            "  1.         1.         1.         1.         1.         1.\n",
            "  1.         1.         1.         1.         1.         1.\n",
            "  1.         1.         1.         1.        ]]\n"
          ]
        },
        {
          "output_type": "stream",
          "name": "stderr",
          "text": [
            "<ipython-input-51-a37e9a5872bf>:13: DeprecationWarning: ANTIALIAS is deprecated and will be removed in Pillow 10 (2023-07-01). Use LANCZOS or Resampling.LANCZOS instead.\n",
            "  img = img.resize((28, 28), Image.ANTIALIAS)\n"
          ]
        },
        {
          "output_type": "display_data",
          "data": {
            "text/plain": [
              "<Figure size 640x480 with 1 Axes>"
            ],
            "image/png": "[encoded data removed]"
          },
          "metadata": {}
        },
        {
          "output_type": "stream",
          "name": "stdout",
          "text": [
            "1/1 [==============================] - 0s 28ms/step\n",
            "The Handwritten Digit is recognised as 5\n"
          ]
        }
      ]
    },
    {
      "cell_type": "code",
      "source": [
        "import cv2\n",
        "import numpy as np\n",
        "from tensorflow.keras.models import load_model\n",
        "import matplotlib.pyplot as plt\n",
        "from google.colab.patches import cv2_imshow  # Use cv2_imshow for Jupyter notebooks\n",
        "\n",
        "def preprocess_image(image_path):\n",
        "    # Read the input image\n",
        "    input_image = cv2.imread(image_path)\n",
        "    cv2_imshow(input_image)  # Display the input image\n",
        "\n",
        "    # Convert to grayscale\n",
        "    grayscale = cv2.cvtColor(input_image, cv2.COLOR_BGR2GRAY)\n",
        "\n",
        "    # Resize the digit to 20x20\n",
        "    digit_resized = cv2.resize(grayscale, (20, 20))\n",
        "\n",
        "    # Place the digit in the center of a 28x28 canvas\n",
        "    canvas = np.ones((28, 28), dtype=np.float32) * 255  # Initialize with white background\n",
        "    x_offset = (28 - 20) // 2\n",
        "    y_offset = (28 - 20) // 2\n",
        "    canvas[y_offset:y_offset+20, x_offset:x_offset+20] = digit_resized\n",
        "\n",
        "    # Normalize pixel values to [0, 1]\n",
        "    canvas = canvas / 255.0\n",
        "\n",
        "    # Invert colors if necessary\n",
        "    canvas = 1 - canvas\n",
        "\n",
        "    # Reshape for the model input\n",
        "    image_reshaped = np.reshape(canvas, (1, 28, 28, 1))  # Add channel dimension\n",
        "\n",
        "    return image_reshaped\n",
        "\n",
        "# Path to your trained model (make sure the model is already trained and saved)\n",
        "model_path = '/content/mnist_digit_classification_model.h5'\n",
        "model = load_model(model_path)\n",
        "\n",
        "# Input image path\n",
        "input_image_path = input('Path of the image to be predicted: ')\n",
        "\n",
        "# Preprocess the input image\n",
        "preprocessed_image = preprocess_image(input_image_path)\n",
        "\n",
        "# Predict the digit\n",
        "input_prediction = model.predict(preprocessed_image)\n",
        "input_pred_label = np.argmax(input_prediction)\n",
        "\n",
        "# Output the predicted digit\n",
        "print(\"The Handwritten Digit is recognized as:\", input_pred_label)\n",
        "\n",
        "# Optional: Display the preprocessed image\n",
        "plt.imshow(preprocessed_image[0].reshape(28, 28), cmap='gray')\n",
        "plt.title(f\"Predicted Digit: {input_pred_label}\")\n",
        "plt.show()\n"
      ],
      "metadata": {
        "colab": {
          "base_uri": "https://localhost:8080/",
          "height": 770
        },
        "id": "36-09Y4WBXw2",
        "outputId": "1f101d7a-9881-4b7d-d1e6-db9aa3cbbe23"
      },
      "execution_count": null,
      "outputs": [
        {
          "name": "stdout",
          "output_type": "stream",
          "text": [
            "Path of the image to be predicted: /content/images (2).png\n"
          ]
        },
        {
          "output_type": "display_data",
          "data": {
            "text/plain": [
              "<PIL.Image.Image image mode=RGB size=225x225>"
            ],
            "image/png": "[encoded data removed]"
          },
          "metadata": {}
        },
        {
          "output_type": "stream",
          "name": "stderr",
          "text": [
            "WARNING:tensorflow:5 out of the last 323 calls to <function Model.make_predict_function.<locals>.predict_function at 0x7a5c30973910> triggered tf.function retracing. Tracing is expensive and the excessive number of tracings could be due to (1) creating @tf.function repeatedly in a loop, (2) passing tensors with different shapes, (3) passing Python objects instead of tensors. For (1), please define your @tf.function outside of the loop. For (2), @tf.function has reduce_retracing=True option that can avoid unnecessary retracing. For (3), please refer to https://www.tensorflow.org/guide/function#controlling_retracing and https://www.tensorflow.org/api_docs/python/tf/function for  more details.\n"
          ]
        },
        {
          "output_type": "stream",
          "name": "stdout",
          "text": [
            "1/1 [==============================] - 0s 55ms/step\n",
            "The Handwritten Digit is recognized as: 4\n"
          ]
        },
        {
          "output_type": "display_data",
          "data": {
            "text/plain": [
              "<Figure size 640x480 with 1 Axes>"
            ],
            "image/png": "[encoded data removed]"
          },
          "metadata": {}
        }
      ]
    },
    {
      "cell_type": "code",
      "source": [
        "from PIL import Image\n",
        "import numpy as np\n",
        "import matplotlib.pyplot as plt\n",
        "\n",
        "def preprocess_image(image_path):\n",
        "    # Load the image\n",
        "    img = Image.open(image_path)\n",
        "\n",
        "    # Convert to grayscale\n",
        "    img = img.convert('L')\n",
        "\n",
        "    # Resize to 28x28\n",
        "    img = img.resize((28, 28), Image.ANTIALIAS)\n",
        "\n",
        "    # Convert to numpy array\n",
        "    img_array = np.array(img)\n",
        "\n",
        "    # Normalize pixel values to [0, 1]\n",
        "    img_array = img_array / 255.0\n",
        "\n",
        "    # Invert colors (if necessary)\n",
        "    img_array = 1 - img_array\n",
        "\n",
        "    return img_array\n",
        "\n",
        "# Example usage\n",
        "image_path = '/content/download (6).jpeg'\n",
        "processed_img = preprocess_image(image_path)\n",
        "\n",
        "# Display the processed image\n",
        "plt.imshow(processed_img, cmap='gray')\n",
        "plt.show()\n",
        "\n",
        "\n",
        "\n",
        "input_image_path = input('Path of the image to be predicted: ')\n",
        "\n",
        "input_image = cv2.imread(input_image_path)\n",
        "\n",
        "cv2_imshow(input_image)\n",
        "\n",
        "grayscale = cv2.cvtColor(input_image, cv2.COLOR_RGB2GRAY)\n",
        "\n",
        "input_image_resize = cv2.resize(grayscale, (28,28))\n",
        "\n",
        "input_image_resize = input_image_resize/255\n",
        "\n",
        "image_reshaped = np.reshape(input_image_resize, [1,28,28])\n",
        "\n",
        "input_prediction = model.predict(image_reshaped)\n",
        "\n",
        "input_pred_label = np.argmax(input_prediction)\n",
        "\n",
        "print(\"The Handwritten Digit is recognised as\" , input_pred_label)\n",
        "\n",
        "\n",
        "\n"
      ],
      "metadata": {
        "id": "qs6VKDFj89wo"
      },
      "execution_count": null,
      "outputs": []
    }
  ]
}